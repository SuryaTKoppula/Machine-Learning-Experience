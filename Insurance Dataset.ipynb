{
 "cells": [
  {
   "cell_type": "markdown",
   "id": "8ef5e24e",
   "metadata": {},
   "source": [
    "## Part- I: Data Analytics - Insurance Dataset"
   ]
  },
  {
   "cell_type": "code",
   "execution_count": 2,
   "id": "b1bb77e3",
   "metadata": {},
   "outputs": [],
   "source": [
    "import pandas as pd\n",
    "import numpy as np\n",
    "import matplotlib.pyplot as plt\n",
    "import seaborn as sns\n",
    "import math as mt"
   ]
  },
  {
   "cell_type": "code",
   "execution_count": 3,
   "id": "dc1f51fd",
   "metadata": {},
   "outputs": [
    {
     "data": {
      "text/html": [
       "<div>\n",
       "<style scoped>\n",
       "    .dataframe tbody tr th:only-of-type {\n",
       "        vertical-align: middle;\n",
       "    }\n",
       "\n",
       "    .dataframe tbody tr th {\n",
       "        vertical-align: top;\n",
       "    }\n",
       "\n",
       "    .dataframe thead th {\n",
       "        text-align: right;\n",
       "    }\n",
       "</style>\n",
       "<table border=\"1\" class=\"dataframe\">\n",
       "  <thead>\n",
       "    <tr style=\"text-align: right;\">\n",
       "      <th></th>\n",
       "      <th>age</th>\n",
       "      <th>sex</th>\n",
       "      <th>bmi</th>\n",
       "      <th>children</th>\n",
       "      <th>smoker</th>\n",
       "      <th>region</th>\n",
       "      <th>charges</th>\n",
       "    </tr>\n",
       "  </thead>\n",
       "  <tbody>\n",
       "    <tr>\n",
       "      <th>940</th>\n",
       "      <td>18</td>\n",
       "      <td>male</td>\n",
       "      <td>23.210</td>\n",
       "      <td>0</td>\n",
       "      <td>no</td>\n",
       "      <td>southeast</td>\n",
       "      <td>1121.87390</td>\n",
       "    </tr>\n",
       "    <tr>\n",
       "      <th>808</th>\n",
       "      <td>18</td>\n",
       "      <td>male</td>\n",
       "      <td>30.140</td>\n",
       "      <td>0</td>\n",
       "      <td>no</td>\n",
       "      <td>southeast</td>\n",
       "      <td>1131.50660</td>\n",
       "    </tr>\n",
       "    <tr>\n",
       "      <th>1244</th>\n",
       "      <td>18</td>\n",
       "      <td>male</td>\n",
       "      <td>33.330</td>\n",
       "      <td>0</td>\n",
       "      <td>no</td>\n",
       "      <td>southeast</td>\n",
       "      <td>1135.94070</td>\n",
       "    </tr>\n",
       "    <tr>\n",
       "      <th>663</th>\n",
       "      <td>18</td>\n",
       "      <td>male</td>\n",
       "      <td>33.660</td>\n",
       "      <td>0</td>\n",
       "      <td>no</td>\n",
       "      <td>southeast</td>\n",
       "      <td>1136.39940</td>\n",
       "    </tr>\n",
       "    <tr>\n",
       "      <th>22</th>\n",
       "      <td>18</td>\n",
       "      <td>male</td>\n",
       "      <td>34.100</td>\n",
       "      <td>0</td>\n",
       "      <td>no</td>\n",
       "      <td>southeast</td>\n",
       "      <td>1137.01100</td>\n",
       "    </tr>\n",
       "    <tr>\n",
       "      <th>...</th>\n",
       "      <td>...</td>\n",
       "      <td>...</td>\n",
       "      <td>...</td>\n",
       "      <td>...</td>\n",
       "      <td>...</td>\n",
       "      <td>...</td>\n",
       "      <td>...</td>\n",
       "    </tr>\n",
       "    <tr>\n",
       "      <th>819</th>\n",
       "      <td>33</td>\n",
       "      <td>female</td>\n",
       "      <td>35.530</td>\n",
       "      <td>0</td>\n",
       "      <td>yes</td>\n",
       "      <td>northwest</td>\n",
       "      <td>55135.40209</td>\n",
       "    </tr>\n",
       "    <tr>\n",
       "      <th>577</th>\n",
       "      <td>31</td>\n",
       "      <td>female</td>\n",
       "      <td>38.095</td>\n",
       "      <td>1</td>\n",
       "      <td>yes</td>\n",
       "      <td>northeast</td>\n",
       "      <td>58571.07448</td>\n",
       "    </tr>\n",
       "    <tr>\n",
       "      <th>1230</th>\n",
       "      <td>52</td>\n",
       "      <td>male</td>\n",
       "      <td>34.485</td>\n",
       "      <td>3</td>\n",
       "      <td>yes</td>\n",
       "      <td>northwest</td>\n",
       "      <td>60021.39897</td>\n",
       "    </tr>\n",
       "    <tr>\n",
       "      <th>1300</th>\n",
       "      <td>45</td>\n",
       "      <td>male</td>\n",
       "      <td>30.360</td>\n",
       "      <td>0</td>\n",
       "      <td>yes</td>\n",
       "      <td>southeast</td>\n",
       "      <td>62592.87309</td>\n",
       "    </tr>\n",
       "    <tr>\n",
       "      <th>543</th>\n",
       "      <td>54</td>\n",
       "      <td>female</td>\n",
       "      <td>47.410</td>\n",
       "      <td>0</td>\n",
       "      <td>yes</td>\n",
       "      <td>southeast</td>\n",
       "      <td>63770.42801</td>\n",
       "    </tr>\n",
       "  </tbody>\n",
       "</table>\n",
       "<p>1338 rows × 7 columns</p>\n",
       "</div>"
      ],
      "text/plain": [
       "      age     sex     bmi  children smoker     region      charges\n",
       "940    18    male  23.210         0     no  southeast   1121.87390\n",
       "808    18    male  30.140         0     no  southeast   1131.50660\n",
       "1244   18    male  33.330         0     no  southeast   1135.94070\n",
       "663    18    male  33.660         0     no  southeast   1136.39940\n",
       "22     18    male  34.100         0     no  southeast   1137.01100\n",
       "...   ...     ...     ...       ...    ...        ...          ...\n",
       "819    33  female  35.530         0    yes  northwest  55135.40209\n",
       "577    31  female  38.095         1    yes  northeast  58571.07448\n",
       "1230   52    male  34.485         3    yes  northwest  60021.39897\n",
       "1300   45    male  30.360         0    yes  southeast  62592.87309\n",
       "543    54  female  47.410         0    yes  southeast  63770.42801\n",
       "\n",
       "[1338 rows x 7 columns]"
      ]
     },
     "execution_count": 3,
     "metadata": {},
     "output_type": "execute_result"
    }
   ],
   "source": [
    "data = pd.read_csv('insurance.csv')\n",
    "data_u = data\n",
    "data=data.sort_values(by='charges',ascending='true')\n",
    "data"
   ]
  },
  {
   "cell_type": "code",
   "execution_count": 4,
   "id": "8f86cad5",
   "metadata": {},
   "outputs": [
    {
     "name": "stdout",
     "output_type": "stream",
     "text": [
      "0\n"
     ]
    }
   ],
   "source": [
    "#calcluating the sum of null entries\n",
    "print(data.isna().sum().sum())\n"
   ]
  },
  {
   "cell_type": "code",
   "execution_count": 5,
   "id": "ba820696",
   "metadata": {},
   "outputs": [
    {
     "data": {
      "text/html": [
       "<div>\n",
       "<style scoped>\n",
       "    .dataframe tbody tr th:only-of-type {\n",
       "        vertical-align: middle;\n",
       "    }\n",
       "\n",
       "    .dataframe tbody tr th {\n",
       "        vertical-align: top;\n",
       "    }\n",
       "\n",
       "    .dataframe thead th {\n",
       "        text-align: right;\n",
       "    }\n",
       "</style>\n",
       "<table border=\"1\" class=\"dataframe\">\n",
       "  <thead>\n",
       "    <tr style=\"text-align: right;\">\n",
       "      <th></th>\n",
       "      <th>age</th>\n",
       "      <th>sex</th>\n",
       "      <th>bmi</th>\n",
       "      <th>children</th>\n",
       "      <th>smoker</th>\n",
       "      <th>region</th>\n",
       "      <th>charges</th>\n",
       "    </tr>\n",
       "  </thead>\n",
       "  <tbody>\n",
       "    <tr>\n",
       "      <th>count</th>\n",
       "      <td>1338.000000</td>\n",
       "      <td>1338</td>\n",
       "      <td>1338.000000</td>\n",
       "      <td>1338.000000</td>\n",
       "      <td>1338</td>\n",
       "      <td>1338</td>\n",
       "      <td>1338.000000</td>\n",
       "    </tr>\n",
       "    <tr>\n",
       "      <th>unique</th>\n",
       "      <td>NaN</td>\n",
       "      <td>2</td>\n",
       "      <td>NaN</td>\n",
       "      <td>NaN</td>\n",
       "      <td>2</td>\n",
       "      <td>4</td>\n",
       "      <td>NaN</td>\n",
       "    </tr>\n",
       "    <tr>\n",
       "      <th>top</th>\n",
       "      <td>NaN</td>\n",
       "      <td>male</td>\n",
       "      <td>NaN</td>\n",
       "      <td>NaN</td>\n",
       "      <td>no</td>\n",
       "      <td>southeast</td>\n",
       "      <td>NaN</td>\n",
       "    </tr>\n",
       "    <tr>\n",
       "      <th>freq</th>\n",
       "      <td>NaN</td>\n",
       "      <td>676</td>\n",
       "      <td>NaN</td>\n",
       "      <td>NaN</td>\n",
       "      <td>1064</td>\n",
       "      <td>364</td>\n",
       "      <td>NaN</td>\n",
       "    </tr>\n",
       "    <tr>\n",
       "      <th>mean</th>\n",
       "      <td>39.207025</td>\n",
       "      <td>NaN</td>\n",
       "      <td>30.663397</td>\n",
       "      <td>1.094918</td>\n",
       "      <td>NaN</td>\n",
       "      <td>NaN</td>\n",
       "      <td>13270.422265</td>\n",
       "    </tr>\n",
       "    <tr>\n",
       "      <th>std</th>\n",
       "      <td>14.049960</td>\n",
       "      <td>NaN</td>\n",
       "      <td>6.098187</td>\n",
       "      <td>1.205493</td>\n",
       "      <td>NaN</td>\n",
       "      <td>NaN</td>\n",
       "      <td>12110.011237</td>\n",
       "    </tr>\n",
       "    <tr>\n",
       "      <th>min</th>\n",
       "      <td>18.000000</td>\n",
       "      <td>NaN</td>\n",
       "      <td>15.960000</td>\n",
       "      <td>0.000000</td>\n",
       "      <td>NaN</td>\n",
       "      <td>NaN</td>\n",
       "      <td>1121.873900</td>\n",
       "    </tr>\n",
       "    <tr>\n",
       "      <th>25%</th>\n",
       "      <td>27.000000</td>\n",
       "      <td>NaN</td>\n",
       "      <td>26.296250</td>\n",
       "      <td>0.000000</td>\n",
       "      <td>NaN</td>\n",
       "      <td>NaN</td>\n",
       "      <td>4740.287150</td>\n",
       "    </tr>\n",
       "    <tr>\n",
       "      <th>50%</th>\n",
       "      <td>39.000000</td>\n",
       "      <td>NaN</td>\n",
       "      <td>30.400000</td>\n",
       "      <td>1.000000</td>\n",
       "      <td>NaN</td>\n",
       "      <td>NaN</td>\n",
       "      <td>9382.033000</td>\n",
       "    </tr>\n",
       "    <tr>\n",
       "      <th>75%</th>\n",
       "      <td>51.000000</td>\n",
       "      <td>NaN</td>\n",
       "      <td>34.693750</td>\n",
       "      <td>2.000000</td>\n",
       "      <td>NaN</td>\n",
       "      <td>NaN</td>\n",
       "      <td>16639.912515</td>\n",
       "    </tr>\n",
       "    <tr>\n",
       "      <th>max</th>\n",
       "      <td>64.000000</td>\n",
       "      <td>NaN</td>\n",
       "      <td>53.130000</td>\n",
       "      <td>5.000000</td>\n",
       "      <td>NaN</td>\n",
       "      <td>NaN</td>\n",
       "      <td>63770.428010</td>\n",
       "    </tr>\n",
       "  </tbody>\n",
       "</table>\n",
       "</div>"
      ],
      "text/plain": [
       "                age   sex          bmi     children smoker     region  \\\n",
       "count   1338.000000  1338  1338.000000  1338.000000   1338       1338   \n",
       "unique          NaN     2          NaN          NaN      2          4   \n",
       "top             NaN  male          NaN          NaN     no  southeast   \n",
       "freq            NaN   676          NaN          NaN   1064        364   \n",
       "mean      39.207025   NaN    30.663397     1.094918    NaN        NaN   \n",
       "std       14.049960   NaN     6.098187     1.205493    NaN        NaN   \n",
       "min       18.000000   NaN    15.960000     0.000000    NaN        NaN   \n",
       "25%       27.000000   NaN    26.296250     0.000000    NaN        NaN   \n",
       "50%       39.000000   NaN    30.400000     1.000000    NaN        NaN   \n",
       "75%       51.000000   NaN    34.693750     2.000000    NaN        NaN   \n",
       "max       64.000000   NaN    53.130000     5.000000    NaN        NaN   \n",
       "\n",
       "             charges  \n",
       "count    1338.000000  \n",
       "unique           NaN  \n",
       "top              NaN  \n",
       "freq             NaN  \n",
       "mean    13270.422265  \n",
       "std     12110.011237  \n",
       "min      1121.873900  \n",
       "25%      4740.287150  \n",
       "50%      9382.033000  \n",
       "75%     16639.912515  \n",
       "max     63770.428010  "
      ]
     },
     "execution_count": 5,
     "metadata": {},
     "output_type": "execute_result"
    }
   ],
   "source": [
    "data.describe(include='all')"
   ]
  },
  {
   "cell_type": "code",
   "execution_count": 6,
   "id": "10097f62",
   "metadata": {},
   "outputs": [
    {
     "name": "stdout",
     "output_type": "stream",
     "text": [
      "940       male\n",
      "808       male\n",
      "1244      male\n",
      "663       male\n",
      "22        male\n",
      "         ...  \n",
      "819     female\n",
      "577     female\n",
      "1230      male\n",
      "1300      male\n",
      "543     female\n",
      "Name: sex, Length: 1338, dtype: object\n",
      "{'male': 676, 'female': 662}\n"
     ]
    }
   ],
   "source": [
    "# the charges of a insurance is affected by the factors: bmi, children, smoker(yes or no), region(northwest has a higher impact on the charges)\n",
    "#we need to assign a factor to the classified values such as smoker, and region and also a value to sex\n",
    "#first we get the count of classified elements: sex\n",
    "data_n = data.to_numpy()\n",
    "#print(data_n)\n",
    "data_sex = data['sex']\n",
    "print(data_sex)\n",
    "data_sex_n = data_sex.to_numpy()\n",
    "#print(data_sex_n)\n",
    "data_sex_n_l = data_sex_n.tolist()\n",
    "res = {}\n",
    "\n",
    "for i in data_sex_n_l:\n",
    "    res[i] = data_sex_n_l.count(i)\n",
    "print(res)"
   ]
  },
  {
   "cell_type": "code",
   "execution_count": 7,
   "id": "9cdcdc6e",
   "metadata": {},
   "outputs": [
    {
     "name": "stdout",
     "output_type": "stream",
     "text": [
      "1338\n",
      "[[1]\n",
      " [1]\n",
      " [1]\n",
      " ...\n",
      " [1]\n",
      " [1]\n",
      " [1]]\n"
     ]
    }
   ],
   "source": [
    "#number of classifications obtained:2, assigning factor accordingly {female:1, male:1}\n",
    "print(len(data_sex))\n",
    "#print(data_cut_n_l)\n",
    "for i in range(1338):\n",
    "    if data_sex_n_l[i] == 'female':\n",
    "        data_sex_n_l[i] = 1\n",
    "    elif data_sex_n_l[i] == 'male':\n",
    "        data_sex_n_l[i] = 1\n",
    "    \n",
    "#print(data_cut_n_l)\n",
    "data_sex_n_l_r = np.reshape(data_sex_n_l, (1338,1))\n",
    "print(data_sex_n_l_r)\n",
    "        "
   ]
  },
  {
   "cell_type": "code",
   "execution_count": 8,
   "id": "039924ed",
   "metadata": {},
   "outputs": [
    {
     "name": "stdout",
     "output_type": "stream",
     "text": [
      "940      no\n",
      "808      no\n",
      "1244     no\n",
      "663      no\n",
      "22       no\n",
      "       ... \n",
      "819     yes\n",
      "577     yes\n",
      "1230    yes\n",
      "1300    yes\n",
      "543     yes\n",
      "Name: smoker, Length: 1338, dtype: object\n",
      "{'no': 1064, 'yes': 274}\n"
     ]
    }
   ],
   "source": [
    "# the charges of a insurance is affected by the factors: bmi, children, smoker(yes or no), region(northwest has a higher impact on the charges)\n",
    "#we need to assign a factor to the classified values such as smoker, and region and also a value to sex\n",
    "#first we get the count of classified elements: smoker\n",
    "data_n = data.to_numpy()\n",
    "#print(data_n)\n",
    "data_smoker = data['smoker']\n",
    "print(data_smoker)\n",
    "data_smoker_n = data_smoker.to_numpy()\n",
    "#print(data_sex_n)\n",
    "data_smoker_n_l = data_smoker_n.tolist()\n",
    "res = {}\n",
    "\n",
    "for i in data_smoker_n_l:\n",
    "    res[i] = data_smoker_n_l.count(i)\n",
    "print(res)"
   ]
  },
  {
   "cell_type": "code",
   "execution_count": 9,
   "id": "9b77df88",
   "metadata": {},
   "outputs": [
    {
     "name": "stdout",
     "output_type": "stream",
     "text": [
      "1338\n",
      "[[0]\n",
      " [0]\n",
      " [0]\n",
      " ...\n",
      " [1]\n",
      " [1]\n",
      " [1]]\n"
     ]
    }
   ],
   "source": [
    "#number of classifications obtained:2, assigning factor accordingly {yes:1, no:0}; because smokers are highly susceptable to health porblems\n",
    "print(len(data_smoker))\n",
    "#print(data_cut_n_l)\n",
    "for i in range(1338):\n",
    "    if data_smoker_n_l[i] == 'yes':\n",
    "        data_smoker_n_l[i] = 1\n",
    "    elif data_smoker_n_l[i] == 'no':\n",
    "        data_smoker_n_l[i] = 0\n",
    "    \n",
    "#print(data_cut_n_l)\n",
    "data_smoker_n_l_r = np.reshape(data_smoker_n_l, (1338,1))\n",
    "print(data_smoker_n_l_r)"
   ]
  },
  {
   "cell_type": "code",
   "execution_count": 10,
   "id": "35a61288",
   "metadata": {},
   "outputs": [
    {
     "name": "stdout",
     "output_type": "stream",
     "text": [
      "940     southeast\n",
      "808     southeast\n",
      "1244    southeast\n",
      "663     southeast\n",
      "22      southeast\n",
      "          ...    \n",
      "819     northwest\n",
      "577     northeast\n",
      "1230    northwest\n",
      "1300    southeast\n",
      "543     southeast\n",
      "Name: region, Length: 1338, dtype: object\n",
      "{'southeast': 364, 'southwest': 325, 'northwest': 325, 'northeast': 324}\n"
     ]
    }
   ],
   "source": [
    "# the charges of a insurance is affected by the factors: bmi, children, smoker(yes or no), region(northwest has a higher impact on the charges)\n",
    "#we need to assign a factor to the classified values such as smoker, and region and also a value to sex\n",
    "#first we get the count of classified elements: region\n",
    "data_n = data.to_numpy()\n",
    "#print(data_n)\n",
    "data_region = data['region']\n",
    "print(data_region)\n",
    "data_region_n = data_region.to_numpy()\n",
    "#print(data_region_n)\n",
    "data_region_n_l = data_region_n.tolist()\n",
    "res = {}\n",
    "\n",
    "for i in data_region_n_l:\n",
    "    res[i] = data_region_n_l.count(i)\n",
    "print(res)"
   ]
  },
  {
   "cell_type": "code",
   "execution_count": 11,
   "id": "c0591a68",
   "metadata": {},
   "outputs": [
    {
     "name": "stdout",
     "output_type": "stream",
     "text": [
      "1338\n",
      "[[0.1]\n",
      " [0.1]\n",
      " [0.1]\n",
      " ...\n",
      " [0.4]\n",
      " [0.1]\n",
      " [0.1]]\n"
     ]
    }
   ],
   "source": [
    "#number of classifications obtained:4, assigning factor accordingly {northwest:1, northeast:2, southwest:3, southeast:1}; because smokers are highly susceptable to health porblems\n",
    "print(len(data_region))\n",
    "#print(data_cut_n_l)\n",
    "for i in range(1338):\n",
    "    if data_region_n_l[i] == 'northwest':\n",
    "        data_region_n_l[i] = 0.4\n",
    "    elif data_region_n_l[i] == 'southwest':\n",
    "        data_region_n_l[i] = 0.3\n",
    "    elif data_region_n_l[i] == 'northeast':\n",
    "        data_region_n_l[i] = 0.2\n",
    "    elif data_region_n_l[i] == 'southeast':\n",
    "        data_region_n_l[i] = 0.1\n",
    "    \n",
    "#print(data_cut_n_l)\n",
    "data_region_n_l_r = np.reshape(data_region_n_l, (1338,1))\n",
    "print(data_region_n_l_r)"
   ]
  },
  {
   "cell_type": "code",
   "execution_count": 12,
   "id": "e921aa4a",
   "metadata": {},
   "outputs": [],
   "source": [
    "bias = np.ones(1338)\n",
    "data_bmi = data['bmi']\n",
    "data_bmi_n = data_bmi.to_numpy()\n",
    "data_bmi_n_l = data_bmi_n.tolist()\n",
    "data_age = data['age']\n",
    "data_age_n = data_age.to_numpy()\n",
    "data_age_n_l = data_age_n.tolist()\n",
    "data_children = data['children']\n",
    "data_children_n = data_children.to_numpy()\n",
    "data_children_n_l = data_children_n.tolist()\n",
    "data_charges = data['charges']\n",
    "data_charges_n = data_charges.to_numpy()\n",
    "data_charges_n_l = data_charges_n.tolist()"
   ]
  },
  {
   "cell_type": "code",
   "execution_count": 13,
   "id": "dbb47645",
   "metadata": {},
   "outputs": [
    {
     "data": {
      "text/html": [
       "<div>\n",
       "<style scoped>\n",
       "    .dataframe tbody tr th:only-of-type {\n",
       "        vertical-align: middle;\n",
       "    }\n",
       "\n",
       "    .dataframe tbody tr th {\n",
       "        vertical-align: top;\n",
       "    }\n",
       "\n",
       "    .dataframe thead th {\n",
       "        text-align: right;\n",
       "    }\n",
       "</style>\n",
       "<table border=\"1\" class=\"dataframe\">\n",
       "  <thead>\n",
       "    <tr style=\"text-align: right;\">\n",
       "      <th></th>\n",
       "      <th>bias</th>\n",
       "      <th>age</th>\n",
       "      <th>sex</th>\n",
       "      <th>bmi</th>\n",
       "      <th>children</th>\n",
       "      <th>smoker</th>\n",
       "      <th>region</th>\n",
       "    </tr>\n",
       "  </thead>\n",
       "  <tbody>\n",
       "    <tr>\n",
       "      <th>0</th>\n",
       "      <td>1.0</td>\n",
       "      <td>18</td>\n",
       "      <td>1</td>\n",
       "      <td>23.210</td>\n",
       "      <td>0</td>\n",
       "      <td>0</td>\n",
       "      <td>0.1</td>\n",
       "    </tr>\n",
       "    <tr>\n",
       "      <th>1</th>\n",
       "      <td>1.0</td>\n",
       "      <td>18</td>\n",
       "      <td>1</td>\n",
       "      <td>30.140</td>\n",
       "      <td>0</td>\n",
       "      <td>0</td>\n",
       "      <td>0.1</td>\n",
       "    </tr>\n",
       "    <tr>\n",
       "      <th>2</th>\n",
       "      <td>1.0</td>\n",
       "      <td>18</td>\n",
       "      <td>1</td>\n",
       "      <td>33.330</td>\n",
       "      <td>0</td>\n",
       "      <td>0</td>\n",
       "      <td>0.1</td>\n",
       "    </tr>\n",
       "    <tr>\n",
       "      <th>3</th>\n",
       "      <td>1.0</td>\n",
       "      <td>18</td>\n",
       "      <td>1</td>\n",
       "      <td>33.660</td>\n",
       "      <td>0</td>\n",
       "      <td>0</td>\n",
       "      <td>0.1</td>\n",
       "    </tr>\n",
       "    <tr>\n",
       "      <th>4</th>\n",
       "      <td>1.0</td>\n",
       "      <td>18</td>\n",
       "      <td>1</td>\n",
       "      <td>34.100</td>\n",
       "      <td>0</td>\n",
       "      <td>0</td>\n",
       "      <td>0.1</td>\n",
       "    </tr>\n",
       "    <tr>\n",
       "      <th>...</th>\n",
       "      <td>...</td>\n",
       "      <td>...</td>\n",
       "      <td>...</td>\n",
       "      <td>...</td>\n",
       "      <td>...</td>\n",
       "      <td>...</td>\n",
       "      <td>...</td>\n",
       "    </tr>\n",
       "    <tr>\n",
       "      <th>1333</th>\n",
       "      <td>1.0</td>\n",
       "      <td>33</td>\n",
       "      <td>1</td>\n",
       "      <td>35.530</td>\n",
       "      <td>0</td>\n",
       "      <td>1</td>\n",
       "      <td>0.4</td>\n",
       "    </tr>\n",
       "    <tr>\n",
       "      <th>1334</th>\n",
       "      <td>1.0</td>\n",
       "      <td>31</td>\n",
       "      <td>1</td>\n",
       "      <td>38.095</td>\n",
       "      <td>1</td>\n",
       "      <td>1</td>\n",
       "      <td>0.2</td>\n",
       "    </tr>\n",
       "    <tr>\n",
       "      <th>1335</th>\n",
       "      <td>1.0</td>\n",
       "      <td>52</td>\n",
       "      <td>1</td>\n",
       "      <td>34.485</td>\n",
       "      <td>3</td>\n",
       "      <td>1</td>\n",
       "      <td>0.4</td>\n",
       "    </tr>\n",
       "    <tr>\n",
       "      <th>1336</th>\n",
       "      <td>1.0</td>\n",
       "      <td>45</td>\n",
       "      <td>1</td>\n",
       "      <td>30.360</td>\n",
       "      <td>0</td>\n",
       "      <td>1</td>\n",
       "      <td>0.1</td>\n",
       "    </tr>\n",
       "    <tr>\n",
       "      <th>1337</th>\n",
       "      <td>1.0</td>\n",
       "      <td>54</td>\n",
       "      <td>1</td>\n",
       "      <td>47.410</td>\n",
       "      <td>0</td>\n",
       "      <td>1</td>\n",
       "      <td>0.1</td>\n",
       "    </tr>\n",
       "  </tbody>\n",
       "</table>\n",
       "<p>1338 rows × 7 columns</p>\n",
       "</div>"
      ],
      "text/plain": [
       "      bias  age  sex     bmi  children  smoker  region\n",
       "0      1.0   18    1  23.210         0       0     0.1\n",
       "1      1.0   18    1  30.140         0       0     0.1\n",
       "2      1.0   18    1  33.330         0       0     0.1\n",
       "3      1.0   18    1  33.660         0       0     0.1\n",
       "4      1.0   18    1  34.100         0       0     0.1\n",
       "...    ...  ...  ...     ...       ...     ...     ...\n",
       "1333   1.0   33    1  35.530         0       1     0.4\n",
       "1334   1.0   31    1  38.095         1       1     0.2\n",
       "1335   1.0   52    1  34.485         3       1     0.4\n",
       "1336   1.0   45    1  30.360         0       1     0.1\n",
       "1337   1.0   54    1  47.410         0       1     0.1\n",
       "\n",
       "[1338 rows x 7 columns]"
      ]
     },
     "execution_count": 13,
     "metadata": {},
     "output_type": "execute_result"
    }
   ],
   "source": [
    "data_eval = pd.DataFrame({'bias':bias, 'age':data_age_n_l, 'sex': data_sex_n_l, 'bmi':data_bmi_n_l, 'children':data_children_n_l, 'smoker':data_smoker_n_l, 'region':data_region_n_l})\n",
    "data_eval"
   ]
  },
  {
   "cell_type": "code",
   "execution_count": 14,
   "id": "83a1dd01",
   "metadata": {},
   "outputs": [
    {
     "name": "stdout",
     "output_type": "stream",
     "text": [
      "sum bias         1338.000\n",
      "age         52459.000\n",
      "sex          1338.000\n",
      "bmi         41027.625\n",
      "children     1465.000\n",
      "smoker        274.000\n",
      "region        328.700\n",
      "dtype: float64\n",
      "count bias        1338\n",
      "age         1338\n",
      "sex         1338\n",
      "bmi         1338\n",
      "children    1338\n",
      "smoker      1338\n",
      "region      1338\n",
      "dtype: int64\n",
      "mean bias         1.000000\n",
      "age         39.207025\n",
      "sex          1.000000\n",
      "bmi         30.663397\n",
      "children     1.094918\n",
      "smoker       0.204783\n",
      "region       0.245665\n",
      "dtype: float64\n",
      "Standard Deviation bias         0.000000\n",
      "age         14.049960\n",
      "sex          0.000000\n",
      "bmi          6.098187\n",
      "children     1.205493\n",
      "smoker       0.403694\n",
      "region       0.113092\n",
      "dtype: float64\n",
      "Mode    bias  age  sex   bmi  children  smoker  region\n",
      "0   1.0   18    1  32.3         0       0     0.1\n",
      "Median bias         1.0\n",
      "age         39.0\n",
      "sex          1.0\n",
      "bmi         30.4\n",
      "children     1.0\n",
      "smoker       0.0\n",
      "region       0.2\n",
      "dtype: float64\n"
     ]
    }
   ],
   "source": [
    "print('sum', data_eval.sum())\n",
    "print('count', data_eval.count())\n",
    "print('mean', data_eval.mean())\n",
    "print('Standard Deviation', data_eval.std())\n",
    "print('Mode', data_eval.mode())\n",
    "print('Median', data_eval.median())"
   ]
  },
  {
   "cell_type": "code",
   "execution_count": 15,
   "id": "5b140611",
   "metadata": {},
   "outputs": [
    {
     "data": {
      "text/plain": [
       "<matplotlib.legend.Legend at 0x1649e65fa00>"
      ]
     },
     "execution_count": 15,
     "metadata": {},
     "output_type": "execute_result"
    },
    {
     "data": {
      "image/png": "[encoded data removed]",
      "text/plain": [
       "<Figure size 432x288 with 1 Axes>"
      ]
     },
     "metadata": {
      "needs_background": "light"
     },
     "output_type": "display_data"
    }
   ],
   "source": [
    "plt.bar(range(1338), data_age_n_l, label='age')\n",
    "plt.grid()\n",
    "plt.legend()"
   ]
  },
  {
   "cell_type": "code",
   "execution_count": 16,
   "id": "062fbf89",
   "metadata": {},
   "outputs": [
    {
     "data": {
      "text/plain": [
       "<matplotlib.legend.Legend at 0x1649e59ff70>"
      ]
     },
     "execution_count": 16,
     "metadata": {},
     "output_type": "execute_result"
    },
    {
     "data": {
      "image/png": "[encoded data removed]",
      "text/plain": [
       "<Figure size 432x288 with 1 Axes>"
      ]
     },
     "metadata": {
      "needs_background": "light"
     },
     "output_type": "display_data"
    }
   ],
   "source": [
    "plt.bar(range(1338), data_bmi_n_l, label='bmi')\n",
    "plt.grid()\n",
    "plt.legend()"
   ]
  },
  {
   "cell_type": "code",
   "execution_count": 17,
   "id": "af573056",
   "metadata": {},
   "outputs": [
    {
     "data": {
      "text/plain": [
       "<matplotlib.legend.Legend at 0x1649fcd31c0>"
      ]
     },
     "execution_count": 17,
     "metadata": {},
     "output_type": "execute_result"
    },
    {
     "data": {
      "image/png": "[encoded data removed]",
      "text/plain": [
       "<Figure size 432x288 with 1 Axes>"
      ]
     },
     "metadata": {
      "needs_background": "light"
     },
     "output_type": "display_data"
    }
   ],
   "source": [
    "plt.bar(range(1338), data_sex_n_l, label='sex')\n",
    "plt.grid()\n",
    "plt.legend()"
   ]
  },
  {
   "cell_type": "code",
   "execution_count": 18,
   "id": "97cb7141",
   "metadata": {},
   "outputs": [
    {
     "data": {
      "text/plain": [
       "<matplotlib.legend.Legend at 0x1649fcd3100>"
      ]
     },
     "execution_count": 18,
     "metadata": {},
     "output_type": "execute_result"
    },
    {
     "data": {
      "image/png": "[encoded data removed]",
      "text/plain": [
       "<Figure size 432x288 with 1 Axes>"
      ]
     },
     "metadata": {
      "needs_background": "light"
     },
     "output_type": "display_data"
    }
   ],
   "source": [
    "plt.bar(range(1338), data_region_n_l, label='region')\n",
    "plt.grid()\n",
    "plt.legend()"
   ]
  },
  {
   "cell_type": "code",
   "execution_count": 19,
   "id": "42f8ae5b",
   "metadata": {},
   "outputs": [
    {
     "data": {
      "text/plain": [
       "<matplotlib.legend.Legend at 0x164a22ee520>"
      ]
     },
     "execution_count": 19,
     "metadata": {},
     "output_type": "execute_result"
    },
    {
     "data": {
      "image/png": "[encoded data removed]",
      "text/plain": [
       "<Figure size 432x288 with 1 Axes>"
      ]
     },
     "metadata": {
      "needs_background": "light"
     },
     "output_type": "display_data"
    }
   ],
   "source": [
    "plt.bar(range(1338), data['charges'], label='charges')\n",
    "plt.grid()\n",
    "plt.legend()"
   ]
  },
  {
   "cell_type": "code",
   "execution_count": 20,
   "id": "3804e3bf",
   "metadata": {},
   "outputs": [
    {
     "data": {
      "text/plain": [
       "<matplotlib.legend.Legend at 0x164a2e26fd0>"
      ]
     },
     "execution_count": 20,
     "metadata": {},
     "output_type": "execute_result"
    },
    {
     "data": {
      "image/png": "[encoded data removed]",
      "text/plain": [
       "<Figure size 432x288 with 1 Axes>"
      ]
     },
     "metadata": {
      "needs_background": "light"
     },
     "output_type": "display_data"
    }
   ],
   "source": [
    "plt.bar(range(1338), data_smoker_n_l, label='smoker')\n",
    "plt.grid()\n",
    "plt.legend()"
   ]
  },
  {
   "cell_type": "markdown",
   "id": "38c2a872",
   "metadata": {},
   "source": [
    "## Part- II: Linear Regression"
   ]
  },
  {
   "cell_type": "code",
   "execution_count": 21,
   "id": "3d8868b3",
   "metadata": {},
   "outputs": [],
   "source": [
    "data_eval_n = data_eval.to_numpy()\n",
    "data_eval_n_l = data_eval_n.tolist()"
   ]
  },
  {
   "cell_type": "code",
   "execution_count": 22,
   "id": "531370a3",
   "metadata": {
    "scrolled": true
   },
   "outputs": [
    {
     "name": "stdout",
     "output_type": "stream",
     "text": [
      "[[ 1.  28.   1.  ...  1.   0.   0.4]\n",
      " [ 1.  31.   1.  ...  0.   0.   0.4]\n",
      " [ 1.  30.   1.  ...  0.   0.   0.2]\n",
      " ...\n",
      " [ 1.  52.   1.  ...  3.   1.   0.4]\n",
      " [ 1.  45.   1.  ...  0.   1.   0.1]\n",
      " [ 1.  54.   1.  ...  0.   1.   0.1]]\n"
     ]
    }
   ],
   "source": [
    "#x_train\n",
    "data_eval_train_n = data_eval_n[276:]\n",
    "data_eval_train_n_l = data_eval_train_n.tolist()\n",
    "print(data_eval_train_n)\n",
    "#x_test\n",
    "data_eval_test_n = data_eval_n[:276]\n",
    "data_eval_test_n_l = data_eval_test_n.tolist()\n",
    "#print(data_eval_test_n)\n",
    "#y_train\n",
    "data_charges_train_n = data_charges_n[276:]\n",
    "data_charges_train_n_l = data_charges_train_n.tolist()\n",
    "#y_test\n",
    "data_charges_test_n = data_charges_n[:276]\n",
    "data_charges_test_n_l = data_charges_train_n.tolist()\n",
    "data_eval_train_n_tra = np.matrix.transpose(data_eval_train_n)"
   ]
  },
  {
   "cell_type": "code",
   "execution_count": 23,
   "id": "258dbafd",
   "metadata": {},
   "outputs": [
    {
     "name": "stdout",
     "output_type": "stream",
     "text": [
      "Shape of X_Train (1062, 7)\n",
      "Shape of Y_Train (1062,)\n",
      "Shape of X_Test (276, 7)\n",
      "Shape of Y_Test (276,)\n"
     ]
    }
   ],
   "source": [
    "print('Shape of X_Train', np.shape(data_eval_train_n))\n",
    "print('Shape of Y_Train', np.shape(data_charges_train_n))\n",
    "print('Shape of X_Test', np.shape(data_eval_test_n))\n",
    "print('Shape of Y_Test', np.shape(data_charges_test_n))"
   ]
  },
  {
   "cell_type": "code",
   "execution_count": 24,
   "id": "6ac80b54",
   "metadata": {},
   "outputs": [
    {
     "name": "stdout",
     "output_type": "stream",
     "text": [
      "[[ 1.   1.   1.  ...  1.   1.   1. ]\n",
      " [28.  31.  30.  ... 52.  45.  54. ]\n",
      " [ 1.   1.   1.  ...  1.   1.   1. ]\n",
      " ...\n",
      " [ 1.   0.   0.  ...  3.   0.   0. ]\n",
      " [ 0.   0.   0.  ...  1.   1.   1. ]\n",
      " [ 0.4  0.4  0.2 ...  0.4  0.1  0.1]]\n",
      "-0.000429626465086802\n",
      "weights [-6247.10271741   209.09819433 -6247.10271741   423.01821988\n",
      "   226.49888446 23100.61644181   643.22586744]\n",
      "4815.310770451309\n",
      "4133.64165\n",
      "RSME 6629.7725486777435\n"
     ]
    },
    {
     "data": {
      "text/plain": [
       "Text(0, 0.5, 'predicted value')"
      ]
     },
     "execution_count": 24,
     "metadata": {},
     "output_type": "execute_result"
    },
    {
     "data": {
      "image/png": "[encoded data removed]",
      "text/plain": [
       "<Figure size 432x288 with 1 Axes>"
      ]
     },
     "metadata": {
      "needs_background": "light"
     },
     "output_type": "display_data"
    }
   ],
   "source": [
    "print(data_eval_train_n_tra)\n",
    "weights_inv = np.dot(data_eval_train_n_tra,data_eval_train_n)\n",
    "#print(data_eval_train_n_l)\n",
    "weights_inv_t = np.linalg.pinv(weights_inv)\n",
    "#print(weights_inv_t)\n",
    "print(weights_inv_t[0,3])\n",
    "weights_r = np.dot(data_eval_train_n_tra,data_charges_train_n)\n",
    "#print(np.shape(weights_r))\n",
    "#print(weights_r)\n",
    "weights = np.dot(weights_inv_t,weights_r)\n",
    "print('weights',weights)\n",
    "weights_tra = np.matrix.transpose(weights)\n",
    "predicted_charge_train_scal = np.dot(data_eval_train_n_l,weights_tra)\n",
    "predicted_charge_train = predicted_charge_train_scal\n",
    "print(predicted_charge_train[0])\n",
    "print(data_charges_train_n[0])\n",
    "error = data_charges_train_n - predicted_charge_train\n",
    "#print(error)\n",
    "error_sqr_test = np.square(error)\n",
    "error_sqr_test_sum = np.sum(error_sqr_test)\n",
    "RSME = mt.sqrt(error_sqr_test_sum/len(error_sqr_test))\n",
    "predicted_charge_train = predicted_charge_train\n",
    "print('RSME',RSME)\n",
    "plt.scatter(data_charges_train_n,predicted_charge_train)\n",
    "plt.xlabel('actual value')\n",
    "plt.ylabel('predicted value')\n",
    "#plt.scatter(range(276),data_charges_train_n)"
   ]
  },
  {
   "cell_type": "code",
   "execution_count": 25,
   "id": "5db5fd1f",
   "metadata": {},
   "outputs": [
    {
     "name": "stdout",
     "output_type": "stream",
     "text": [
      "RSME 3805.579424351065\n"
     ]
    },
    {
     "data": {
      "text/plain": [
       "Text(0, 0.5, 'predicted value')"
      ]
     },
     "execution_count": 25,
     "metadata": {},
     "output_type": "execute_result"
    },
    {
     "data": {
      "image/png": "[encoded data removed]",
      "text/plain": [
       "<Figure size 432x288 with 1 Axes>"
      ]
     },
     "metadata": {
      "needs_background": "light"
     },
     "output_type": "display_data"
    }
   ],
   "source": [
    "predicted_charge_test = np.dot(data_eval_test_n,weights_tra)\n",
    "predicted_charge_test_n_l = predicted_charge_test.tolist()\n",
    "#print(predicted_charge_test_n_l)\n",
    "#print(data_charges_test_n_l)\n",
    "error = data_charges_test_n - predicted_charge_test\n",
    "#print(error)\n",
    "error_sqr = np.square(error)\n",
    "#print(error_sqr)\n",
    "error_sqr_sum = np.sum(error_sqr)\n",
    "#print(error_sqr_sum)\n",
    "RSME = (error_sqr_sum/len(error_sqr))**0.5\n",
    "print('RSME',RSME) \n",
    "plt.scatter(data_charges_test_n, predicted_charge_test_n_l)\n",
    "plt.xlabel('actual value')\n",
    "plt.ylabel('predicted value')\n",
    "#plt.scatter(range(1062),data_charges_test_n )"
   ]
  },
  {
   "cell_type": "markdown",
   "id": "23c81379",
   "metadata": {},
   "source": [
    "## Part-III: Ridge Regression"
   ]
  },
  {
   "cell_type": "code",
   "execution_count": 26,
   "id": "cb2af31f",
   "metadata": {},
   "outputs": [
    {
     "name": "stdout",
     "output_type": "stream",
     "text": [
      "Ridge Regression RSME: 6629.904187519106\n",
      "Ridge Regression Weights: [-6132.63806991   207.52796461 -6132.63806929   420.00453687\n",
      "   219.37186443 23018.36332981   504.59633668]\n"
     ]
    },
    {
     "data": {
      "text/plain": [
       "<matplotlib.legend.Legend at 0x164a520d850>"
      ]
     },
     "execution_count": 26,
     "metadata": {},
     "output_type": "execute_result"
    },
    {
     "data": {
      "image/png": "[encoded data removed]",
      "text/plain": [
       "<Figure size 432x288 with 1 Axes>"
      ]
     },
     "metadata": {
      "needs_background": "light"
     },
     "output_type": "display_data"
    }
   ],
   "source": [
    "l = 0.55 #assuming value 0.5 for lambda\n",
    "weights_rid = np.dot(np.linalg.pinv(weights_inv + l*np.eye(len(weights_inv))),weights_r)\n",
    "weights_rid_tra = np.matrix.transpose(weights_rid)\n",
    "predict_rid_train = np.dot(data_eval_train_n_l,weights_rid_tra)\n",
    "error_rid = data_charges_train_n_l - predict_rid_train\n",
    "error_rid_tra = np.matrix.transpose(error_rid)\n",
    "error_rid_sqr = np.square(error_rid)\n",
    "error_rid_sqr_sum = np.sum(error_rid_sqr)\n",
    "RSME_rid = (error_rid_sqr_sum/len(error_rid_sqr))**0.5\n",
    "print('Ridge Regression RSME:',RSME_rid)\n",
    "print('Ridge Regression Weights:', weights_rid)\n",
    "plt.scatter(data_charges_train_n,predict_rid_train, color = 'r', label = 'Predicted Value')\n",
    "plt.xlabel('actual value')\n",
    "plt.ylabel('predicted value')\n",
    "#plt.scatter(range(276),data_charges_train_n, label = 'Actual Value')\n",
    "plt.legend()\n"
   ]
  },
  {
   "cell_type": "code",
   "execution_count": 27,
   "id": "a342f9d6",
   "metadata": {},
   "outputs": [
    {
     "name": "stdout",
     "output_type": "stream",
     "text": [
      "(276,)\n",
      "(276,)\n",
      "Ridge Regression RSME: 6629.904187519106\n"
     ]
    },
    {
     "data": {
      "text/plain": [
       "<matplotlib.legend.Legend at 0x164a52a5df0>"
      ]
     },
     "execution_count": 27,
     "metadata": {},
     "output_type": "execute_result"
    },
    {
     "data": {
      "image/png": "[encoded data removed]",
      "text/plain": [
       "<Figure size 432x288 with 1 Axes>"
      ]
     },
     "metadata": {
      "needs_background": "light"
     },
     "output_type": "display_data"
    }
   ],
   "source": [
    "predict_rid_test = np.dot(data_eval_test_n_l,weights_rid_tra)\n",
    "print(np.shape(predict_rid_test))\n",
    "print(np.shape(data_charges_test_n))\n",
    "error_rid_test = data_charges_test_n - predict_rid_test\n",
    "error_rid_tra_test = np.matrix.transpose(error_rid_test)\n",
    "error_rid_sqr_test = np.square(error_rid_test)\n",
    "error_rid_sqr_sum_test = np.sum(error_rid_sqr_test)\n",
    "RSME_rid_test = (error_rid_sqr_sum_test/len(error_rid_sqr_test))**0.5\n",
    "print('Ridge Regression RSME:',RSME_rid)\n",
    "plt.scatter(data_charges_test_n, predict_rid_test, color = 'r', label = 'Predicted Value')\n",
    "plt.xlabel('actual value')\n",
    "plt.ylabel('predicted value')\n",
    "plt.grid()\n",
    "#plt.scatter(range(1062),data_charges_test_n, label = 'Actual Value')\n",
    "plt.legend()"
   ]
  },
  {
   "cell_type": "markdown",
   "id": "2e8c7620",
   "metadata": {},
   "source": [
    "## Part IV: Gradient Descent"
   ]
  },
  {
   "cell_type": "code",
   "execution_count": 28,
   "id": "7f8c8b1a",
   "metadata": {},
   "outputs": [
    {
     "name": "stdout",
     "output_type": "stream",
     "text": [
      "[3.66498887e+34 1.68526518e+36 3.66498887e+34 1.14910196e+36\n",
      " 4.48306971e+34 8.70764959e+33 8.98303745e+33]\n",
      "Gradient Descent RSME 1.1127645115163645e+38\n",
      "Gradient Descent Weights [3.66498887e+34 1.68526518e+36 3.66498887e+34 1.14910196e+36\n",
      " 4.48306971e+34 8.70764959e+33 8.98303745e+33]\n"
     ]
    },
    {
     "data": {
      "text/plain": [
       "<matplotlib.legend.Legend at 0x164a52f5be0>"
      ]
     },
     "execution_count": 28,
     "metadata": {},
     "output_type": "execute_result"
    },
    {
     "data": {
      "image/png": "[encoded data removed]",
      "text/plain": [
       "<Figure size 432x288 with 1 Axes>"
      ]
     },
     "metadata": {
      "needs_background": "light"
     },
     "output_type": "display_data"
    }
   ],
   "source": [
    "alpha = 0.1 #Assuming alpha as 0.2\n",
    "weights_grad = weights_rid\n",
    "\n",
    "for i in range(7):\n",
    "    del_j = -2*weights_r + 2*np.dot(weights_inv,weights_grad)\n",
    "    weights_grad = weights_grad-alpha*del_j\n",
    "weights_grad = np.array(weights_grad)\n",
    "print(weights_grad)\n",
    "weights_grad_tra = np.matrix.transpose(weights_grad)\n",
    "predict_grad_train = np.dot(data_eval_train_n,weights_grad_tra)\n",
    "error_grad_train = data_charges_train_n - predict_grad_train\n",
    "error_grad_train_sqr = np.square(error_grad_train)\n",
    "error_grad_train_sqr_sum = np.sum(error_grad_train_sqr)\n",
    "RSME_grad_train = (error_grad_train_sqr_sum/len(error_grad_train_sqr))**0.5\n",
    "print('Gradient Descent RSME', RSME_grad_train)\n",
    "print('Gradient Descent Weights', weights_grad)\n",
    "plt.scatter(data_charges_train_n,predict_grad_train, color = 'g', label = 'Predicted Value')\n",
    "plt.xlabel('actual value')\n",
    "plt.ylabel('predicted value')\n",
    "#plt.scatter(range(276),data_charges_train_n, label = 'Actual Value')\n",
    "plt.legend()"
   ]
  },
  {
   "cell_type": "code",
   "execution_count": 29,
   "id": "9de00fb4",
   "metadata": {},
   "outputs": [
    {
     "name": "stdout",
     "output_type": "stream",
     "text": [
      "Gradient Descent RSME 7.324600442693655e+37\n"
     ]
    },
    {
     "data": {
      "text/plain": [
       "<matplotlib.legend.Legend at 0x164a53910d0>"
      ]
     },
     "execution_count": 29,
     "metadata": {},
     "output_type": "execute_result"
    },
    {
     "data": {
      "image/png": "[encoded data removed]",
      "text/plain": [
       "<Figure size 432x288 with 1 Axes>"
      ]
     },
     "metadata": {
      "needs_background": "light"
     },
     "output_type": "display_data"
    }
   ],
   "source": [
    "predict_grad_test = np.dot(data_eval_test_n,weights_grad_tra)\n",
    "error_grad_test = data_charges_test_n - predict_grad_test\n",
    "error_grad_test_sqr = np.square(error_grad_test)\n",
    "error_grad_test_sqr_sum = np.sum(error_grad_test_sqr)\n",
    "RSME_grad_test = (error_grad_test_sqr_sum/len(error_grad_test_sqr))**0.5\n",
    "print('Gradient Descent RSME', RSME_grad_test)\n",
    "plt.scatter(data_charges_test_n,predict_grad_test, color = 'g', label = 'Predicted Value')\n",
    "plt.xlabel('actual value')\n",
    "plt.ylabel('predicted value')\n",
    "plt.grid()\n",
    "#plt.scatter(range(1062),data_charges_test_n, label = 'Actual Value')\n",
    "plt.legend()"
   ]
  },
  {
   "cell_type": "code",
   "execution_count": 30,
   "id": "7d17759c",
   "metadata": {},
   "outputs": [
    {
     "data": {
      "text/plain": [
       "<matplotlib.legend.Legend at 0x164a535c310>"
      ]
     },
     "execution_count": 30,
     "metadata": {},
     "output_type": "execute_result"
    },
    {
     "data": {
      "image/png": "[encoded data removed]",
      "text/plain": [
       "<Figure size 432x288 with 1 Axes>"
      ]
     },
     "metadata": {
      "needs_background": "light"
     },
     "output_type": "display_data"
    }
   ],
   "source": [
    "plt.scatter(range(1062), error_sqr_test, color = 'g', label = 'Linear Regression Squared Loss')\n",
    "plt.plot(range(1062), error_rid_sqr, color = 'r', label = 'Ridge Regression Squared Loss')\n",
    "#plt.plot(range(1062), error_grad_train_sqr, color = 'b', label = 'Gradient Descent Squared Loss')\n",
    "plt.grid()\n",
    "plt.legend()"
   ]
  },
  {
   "cell_type": "markdown",
   "id": "1732ef58",
   "metadata": {},
   "source": [
    "## References"
   ]
  },
  {
   "cell_type": "code",
   "execution_count": 272,
   "id": "fe64cde1",
   "metadata": {},
   "outputs": [],
   "source": [
    "#https://numpy.org/doc/stable/index.html\n",
    "#https://pandas.pydata.org/\n",
    "#google searches on how to matrix multiplications, mattrix transpose, matrix reshapes\n",
    "#https://matplotlib.org/stable/api/_as_gen/matplotlib.pyplot.html"
   ]
  },
  {
   "cell_type": "code",
   "execution_count": null,
   "id": "fda5369b",
   "metadata": {},
   "outputs": [],
   "source": []
  }
 ],
 "metadata": {
  "kernelspec": {
   "display_name": "Python 3 (ipykernel)",
   "language": "python",
   "name": "python3"
  },
  "language_info": {
   "codemirror_mode": {
    "name": "ipython",
    "version": 3
   },
   "file_extension": ".py",
   "mimetype": "text/x-python",
   "name": "python",
   "nbconvert_exporter": "python",
   "pygments_lexer": "ipython3",
   "version": "3.9.7"
  }
 },
 "nbformat": 4,
 "nbformat_minor": 5
}
