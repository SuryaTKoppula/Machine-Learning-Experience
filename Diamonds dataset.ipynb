{
 "cells": [
  {
   "cell_type": "code",
   "execution_count": 1,
   "id": "cc6dbb72",
   "metadata": {},
   "outputs": [],
   "source": [
    "import pandas as pd\n",
    "import numpy as np\n",
    "import matplotlib.pyplot as plt\n",
    "import seaborn as sns\n",
    "#from numpy import det\n",
    "import math as mt"
   ]
  },
  {
   "cell_type": "markdown",
   "id": "3a167a7a",
   "metadata": {},
   "source": [
    "## Part I: Data Analysis - Diamond Dataset"
   ]
  },
  {
   "cell_type": "code",
   "execution_count": 2,
   "id": "9bb0a41a",
   "metadata": {},
   "outputs": [
    {
     "name": "stdout",
     "output_type": "stream",
     "text": [
      "Dataset 1: Diamond Dataset\n"
     ]
    },
    {
     "data": {
      "text/html": [
       "<div>\n",
       "<style scoped>\n",
       "    .dataframe tbody tr th:only-of-type {\n",
       "        vertical-align: middle;\n",
       "    }\n",
       "\n",
       "    .dataframe tbody tr th {\n",
       "        vertical-align: top;\n",
       "    }\n",
       "\n",
       "    .dataframe thead th {\n",
       "        text-align: right;\n",
       "    }\n",
       "</style>\n",
       "<table border=\"1\" class=\"dataframe\">\n",
       "  <thead>\n",
       "    <tr style=\"text-align: right;\">\n",
       "      <th></th>\n",
       "      <th>carat</th>\n",
       "      <th>cut</th>\n",
       "      <th>color</th>\n",
       "      <th>clarity</th>\n",
       "      <th>depth</th>\n",
       "      <th>table</th>\n",
       "      <th>price</th>\n",
       "      <th>x</th>\n",
       "      <th>y</th>\n",
       "      <th>z</th>\n",
       "    </tr>\n",
       "  </thead>\n",
       "  <tbody>\n",
       "    <tr>\n",
       "      <th>1</th>\n",
       "      <td>0.23</td>\n",
       "      <td>Ideal</td>\n",
       "      <td>E</td>\n",
       "      <td>SI2</td>\n",
       "      <td>61.5</td>\n",
       "      <td>55.0</td>\n",
       "      <td>326</td>\n",
       "      <td>3.95</td>\n",
       "      <td>3.98</td>\n",
       "      <td>2.43</td>\n",
       "    </tr>\n",
       "    <tr>\n",
       "      <th>2</th>\n",
       "      <td>0.21</td>\n",
       "      <td>Premium</td>\n",
       "      <td>E</td>\n",
       "      <td>SI1</td>\n",
       "      <td>59.8</td>\n",
       "      <td>61.0</td>\n",
       "      <td>326</td>\n",
       "      <td>3.89</td>\n",
       "      <td>3.84</td>\n",
       "      <td>2.31</td>\n",
       "    </tr>\n",
       "    <tr>\n",
       "      <th>3</th>\n",
       "      <td>0.23</td>\n",
       "      <td>Good</td>\n",
       "      <td>E</td>\n",
       "      <td>VS1</td>\n",
       "      <td>56.9</td>\n",
       "      <td>65.0</td>\n",
       "      <td>327</td>\n",
       "      <td>4.05</td>\n",
       "      <td>4.07</td>\n",
       "      <td>2.31</td>\n",
       "    </tr>\n",
       "    <tr>\n",
       "      <th>4</th>\n",
       "      <td>0.29</td>\n",
       "      <td>Premium</td>\n",
       "      <td>I</td>\n",
       "      <td>VS2</td>\n",
       "      <td>62.4</td>\n",
       "      <td>58.0</td>\n",
       "      <td>334</td>\n",
       "      <td>4.20</td>\n",
       "      <td>4.23</td>\n",
       "      <td>2.63</td>\n",
       "    </tr>\n",
       "    <tr>\n",
       "      <th>5</th>\n",
       "      <td>0.31</td>\n",
       "      <td>Good</td>\n",
       "      <td>J</td>\n",
       "      <td>SI2</td>\n",
       "      <td>63.3</td>\n",
       "      <td>58.0</td>\n",
       "      <td>335</td>\n",
       "      <td>4.34</td>\n",
       "      <td>4.35</td>\n",
       "      <td>2.75</td>\n",
       "    </tr>\n",
       "    <tr>\n",
       "      <th>...</th>\n",
       "      <td>...</td>\n",
       "      <td>...</td>\n",
       "      <td>...</td>\n",
       "      <td>...</td>\n",
       "      <td>...</td>\n",
       "      <td>...</td>\n",
       "      <td>...</td>\n",
       "      <td>...</td>\n",
       "      <td>...</td>\n",
       "      <td>...</td>\n",
       "    </tr>\n",
       "    <tr>\n",
       "      <th>27746</th>\n",
       "      <td>2.00</td>\n",
       "      <td>Very Good</td>\n",
       "      <td>H</td>\n",
       "      <td>SI1</td>\n",
       "      <td>62.8</td>\n",
       "      <td>57.0</td>\n",
       "      <td>18803</td>\n",
       "      <td>7.95</td>\n",
       "      <td>8.00</td>\n",
       "      <td>5.01</td>\n",
       "    </tr>\n",
       "    <tr>\n",
       "      <th>27747</th>\n",
       "      <td>2.07</td>\n",
       "      <td>Ideal</td>\n",
       "      <td>G</td>\n",
       "      <td>SI2</td>\n",
       "      <td>62.5</td>\n",
       "      <td>55.0</td>\n",
       "      <td>18804</td>\n",
       "      <td>8.20</td>\n",
       "      <td>8.13</td>\n",
       "      <td>5.11</td>\n",
       "    </tr>\n",
       "    <tr>\n",
       "      <th>27748</th>\n",
       "      <td>1.51</td>\n",
       "      <td>Ideal</td>\n",
       "      <td>G</td>\n",
       "      <td>IF</td>\n",
       "      <td>61.7</td>\n",
       "      <td>55.0</td>\n",
       "      <td>18806</td>\n",
       "      <td>7.37</td>\n",
       "      <td>7.41</td>\n",
       "      <td>4.56</td>\n",
       "    </tr>\n",
       "    <tr>\n",
       "      <th>27749</th>\n",
       "      <td>2.00</td>\n",
       "      <td>Very Good</td>\n",
       "      <td>G</td>\n",
       "      <td>SI1</td>\n",
       "      <td>63.5</td>\n",
       "      <td>56.0</td>\n",
       "      <td>18818</td>\n",
       "      <td>7.90</td>\n",
       "      <td>7.97</td>\n",
       "      <td>5.04</td>\n",
       "    </tr>\n",
       "    <tr>\n",
       "      <th>27750</th>\n",
       "      <td>2.29</td>\n",
       "      <td>Premium</td>\n",
       "      <td>I</td>\n",
       "      <td>VS2</td>\n",
       "      <td>60.8</td>\n",
       "      <td>60.0</td>\n",
       "      <td>18823</td>\n",
       "      <td>8.50</td>\n",
       "      <td>8.47</td>\n",
       "      <td>5.16</td>\n",
       "    </tr>\n",
       "  </tbody>\n",
       "</table>\n",
       "<p>53940 rows × 10 columns</p>\n",
       "</div>"
      ],
      "text/plain": [
       "       carat        cut color clarity  depth  table  price     x     y     z\n",
       "1       0.23      Ideal     E     SI2   61.5   55.0    326  3.95  3.98  2.43\n",
       "2       0.21    Premium     E     SI1   59.8   61.0    326  3.89  3.84  2.31\n",
       "3       0.23       Good     E     VS1   56.9   65.0    327  4.05  4.07  2.31\n",
       "4       0.29    Premium     I     VS2   62.4   58.0    334  4.20  4.23  2.63\n",
       "5       0.31       Good     J     SI2   63.3   58.0    335  4.34  4.35  2.75\n",
       "...      ...        ...   ...     ...    ...    ...    ...   ...   ...   ...\n",
       "27746   2.00  Very Good     H     SI1   62.8   57.0  18803  7.95  8.00  5.01\n",
       "27747   2.07      Ideal     G     SI2   62.5   55.0  18804  8.20  8.13  5.11\n",
       "27748   1.51      Ideal     G      IF   61.7   55.0  18806  7.37  7.41  4.56\n",
       "27749   2.00  Very Good     G     SI1   63.5   56.0  18818  7.90  7.97  5.04\n",
       "27750   2.29    Premium     I     VS2   60.8   60.0  18823  8.50  8.47  5.16\n",
       "\n",
       "[53940 rows x 10 columns]"
      ]
     },
     "execution_count": 2,
     "metadata": {},
     "output_type": "execute_result"
    }
   ],
   "source": [
    "data = pd.read_csv('diamonds.csv', index_col=0)\n",
    "print(\"Dataset 1: Diamond Dataset\")\n",
    "data=data.sort_values(by='price',ascending='true')\n",
    "data"
   ]
  },
  {
   "cell_type": "code",
   "execution_count": 3,
   "id": "bb510e26",
   "metadata": {},
   "outputs": [
    {
     "name": "stdout",
     "output_type": "stream",
     "text": [
      "0\n"
     ]
    }
   ],
   "source": [
    "#calcluating the sum of null entries\n",
    "print(data.isna().sum().sum())"
   ]
  },
  {
   "cell_type": "code",
   "execution_count": 4,
   "id": "4a824203",
   "metadata": {
    "scrolled": true
   },
   "outputs": [
    {
     "name": "stdout",
     "output_type": "stream",
     "text": [
      "Main Statistics of Dataset 1:\n"
     ]
    },
    {
     "data": {
      "text/html": [
       "<div>\n",
       "<style scoped>\n",
       "    .dataframe tbody tr th:only-of-type {\n",
       "        vertical-align: middle;\n",
       "    }\n",
       "\n",
       "    .dataframe tbody tr th {\n",
       "        vertical-align: top;\n",
       "    }\n",
       "\n",
       "    .dataframe thead th {\n",
       "        text-align: right;\n",
       "    }\n",
       "</style>\n",
       "<table border=\"1\" class=\"dataframe\">\n",
       "  <thead>\n",
       "    <tr style=\"text-align: right;\">\n",
       "      <th></th>\n",
       "      <th>carat</th>\n",
       "      <th>cut</th>\n",
       "      <th>color</th>\n",
       "      <th>clarity</th>\n",
       "      <th>depth</th>\n",
       "      <th>table</th>\n",
       "      <th>price</th>\n",
       "      <th>x</th>\n",
       "      <th>y</th>\n",
       "      <th>z</th>\n",
       "    </tr>\n",
       "  </thead>\n",
       "  <tbody>\n",
       "    <tr>\n",
       "      <th>count</th>\n",
       "      <td>53940.000000</td>\n",
       "      <td>53940</td>\n",
       "      <td>53940</td>\n",
       "      <td>53940</td>\n",
       "      <td>53940.000000</td>\n",
       "      <td>53940.000000</td>\n",
       "      <td>53940.000000</td>\n",
       "      <td>53940.000000</td>\n",
       "      <td>53940.000000</td>\n",
       "      <td>53940.000000</td>\n",
       "    </tr>\n",
       "    <tr>\n",
       "      <th>unique</th>\n",
       "      <td>NaN</td>\n",
       "      <td>5</td>\n",
       "      <td>7</td>\n",
       "      <td>8</td>\n",
       "      <td>NaN</td>\n",
       "      <td>NaN</td>\n",
       "      <td>NaN</td>\n",
       "      <td>NaN</td>\n",
       "      <td>NaN</td>\n",
       "      <td>NaN</td>\n",
       "    </tr>\n",
       "    <tr>\n",
       "      <th>top</th>\n",
       "      <td>NaN</td>\n",
       "      <td>Ideal</td>\n",
       "      <td>G</td>\n",
       "      <td>SI1</td>\n",
       "      <td>NaN</td>\n",
       "      <td>NaN</td>\n",
       "      <td>NaN</td>\n",
       "      <td>NaN</td>\n",
       "      <td>NaN</td>\n",
       "      <td>NaN</td>\n",
       "    </tr>\n",
       "    <tr>\n",
       "      <th>freq</th>\n",
       "      <td>NaN</td>\n",
       "      <td>21551</td>\n",
       "      <td>11292</td>\n",
       "      <td>13065</td>\n",
       "      <td>NaN</td>\n",
       "      <td>NaN</td>\n",
       "      <td>NaN</td>\n",
       "      <td>NaN</td>\n",
       "      <td>NaN</td>\n",
       "      <td>NaN</td>\n",
       "    </tr>\n",
       "    <tr>\n",
       "      <th>mean</th>\n",
       "      <td>0.797940</td>\n",
       "      <td>NaN</td>\n",
       "      <td>NaN</td>\n",
       "      <td>NaN</td>\n",
       "      <td>61.749405</td>\n",
       "      <td>57.457184</td>\n",
       "      <td>3932.799722</td>\n",
       "      <td>5.731157</td>\n",
       "      <td>5.734526</td>\n",
       "      <td>3.538734</td>\n",
       "    </tr>\n",
       "    <tr>\n",
       "      <th>std</th>\n",
       "      <td>0.474011</td>\n",
       "      <td>NaN</td>\n",
       "      <td>NaN</td>\n",
       "      <td>NaN</td>\n",
       "      <td>1.432621</td>\n",
       "      <td>2.234491</td>\n",
       "      <td>3989.439738</td>\n",
       "      <td>1.121761</td>\n",
       "      <td>1.142135</td>\n",
       "      <td>0.705699</td>\n",
       "    </tr>\n",
       "    <tr>\n",
       "      <th>min</th>\n",
       "      <td>0.200000</td>\n",
       "      <td>NaN</td>\n",
       "      <td>NaN</td>\n",
       "      <td>NaN</td>\n",
       "      <td>43.000000</td>\n",
       "      <td>43.000000</td>\n",
       "      <td>326.000000</td>\n",
       "      <td>0.000000</td>\n",
       "      <td>0.000000</td>\n",
       "      <td>0.000000</td>\n",
       "    </tr>\n",
       "    <tr>\n",
       "      <th>25%</th>\n",
       "      <td>0.400000</td>\n",
       "      <td>NaN</td>\n",
       "      <td>NaN</td>\n",
       "      <td>NaN</td>\n",
       "      <td>61.000000</td>\n",
       "      <td>56.000000</td>\n",
       "      <td>950.000000</td>\n",
       "      <td>4.710000</td>\n",
       "      <td>4.720000</td>\n",
       "      <td>2.910000</td>\n",
       "    </tr>\n",
       "    <tr>\n",
       "      <th>50%</th>\n",
       "      <td>0.700000</td>\n",
       "      <td>NaN</td>\n",
       "      <td>NaN</td>\n",
       "      <td>NaN</td>\n",
       "      <td>61.800000</td>\n",
       "      <td>57.000000</td>\n",
       "      <td>2401.000000</td>\n",
       "      <td>5.700000</td>\n",
       "      <td>5.710000</td>\n",
       "      <td>3.530000</td>\n",
       "    </tr>\n",
       "    <tr>\n",
       "      <th>75%</th>\n",
       "      <td>1.040000</td>\n",
       "      <td>NaN</td>\n",
       "      <td>NaN</td>\n",
       "      <td>NaN</td>\n",
       "      <td>62.500000</td>\n",
       "      <td>59.000000</td>\n",
       "      <td>5324.250000</td>\n",
       "      <td>6.540000</td>\n",
       "      <td>6.540000</td>\n",
       "      <td>4.040000</td>\n",
       "    </tr>\n",
       "    <tr>\n",
       "      <th>max</th>\n",
       "      <td>5.010000</td>\n",
       "      <td>NaN</td>\n",
       "      <td>NaN</td>\n",
       "      <td>NaN</td>\n",
       "      <td>79.000000</td>\n",
       "      <td>95.000000</td>\n",
       "      <td>18823.000000</td>\n",
       "      <td>10.740000</td>\n",
       "      <td>58.900000</td>\n",
       "      <td>31.800000</td>\n",
       "    </tr>\n",
       "  </tbody>\n",
       "</table>\n",
       "</div>"
      ],
      "text/plain": [
       "               carat    cut  color clarity         depth         table  \\\n",
       "count   53940.000000  53940  53940   53940  53940.000000  53940.000000   \n",
       "unique           NaN      5      7       8           NaN           NaN   \n",
       "top              NaN  Ideal      G     SI1           NaN           NaN   \n",
       "freq             NaN  21551  11292   13065           NaN           NaN   \n",
       "mean        0.797940    NaN    NaN     NaN     61.749405     57.457184   \n",
       "std         0.474011    NaN    NaN     NaN      1.432621      2.234491   \n",
       "min         0.200000    NaN    NaN     NaN     43.000000     43.000000   \n",
       "25%         0.400000    NaN    NaN     NaN     61.000000     56.000000   \n",
       "50%         0.700000    NaN    NaN     NaN     61.800000     57.000000   \n",
       "75%         1.040000    NaN    NaN     NaN     62.500000     59.000000   \n",
       "max         5.010000    NaN    NaN     NaN     79.000000     95.000000   \n",
       "\n",
       "               price             x             y             z  \n",
       "count   53940.000000  53940.000000  53940.000000  53940.000000  \n",
       "unique           NaN           NaN           NaN           NaN  \n",
       "top              NaN           NaN           NaN           NaN  \n",
       "freq             NaN           NaN           NaN           NaN  \n",
       "mean     3932.799722      5.731157      5.734526      3.538734  \n",
       "std      3989.439738      1.121761      1.142135      0.705699  \n",
       "min       326.000000      0.000000      0.000000      0.000000  \n",
       "25%       950.000000      4.710000      4.720000      2.910000  \n",
       "50%      2401.000000      5.700000      5.710000      3.530000  \n",
       "75%      5324.250000      6.540000      6.540000      4.040000  \n",
       "max     18823.000000     10.740000     58.900000     31.800000  "
      ]
     },
     "execution_count": 4,
     "metadata": {},
     "output_type": "execute_result"
    }
   ],
   "source": [
    "stat_data = data.describe(include='all')\n",
    "print(\"Main Statistics of Dataset 1:\")\n",
    "stat_data"
   ]
  },
  {
   "cell_type": "code",
   "execution_count": 5,
   "id": "29adc632",
   "metadata": {},
   "outputs": [
    {
     "name": "stdout",
     "output_type": "stream",
     "text": [
      "Titles of the given Dataset:\n"
     ]
    },
    {
     "data": {
      "text/plain": [
       "['carat', 'cut', 'color', 'clarity', 'depth', 'table', 'price', 'x', 'y', 'z']"
      ]
     },
     "execution_count": 5,
     "metadata": {},
     "output_type": "execute_result"
    }
   ],
   "source": [
    "print(\"Titles of the given Dataset:\")\n",
    "column_data = list(data.columns)\n",
    "column_data"
   ]
  },
  {
   "cell_type": "code",
   "execution_count": 6,
   "id": "082b5858",
   "metadata": {},
   "outputs": [
    {
     "name": "stdout",
     "output_type": "stream",
     "text": [
      "Shape of the Dataste: [53940, 10]\n"
     ]
    }
   ],
   "source": [
    "shape_data = list(data.shape)\n",
    "print(\"Shape of the Dataste:\", shape_data)\n",
    "\n"
   ]
  },
  {
   "cell_type": "code",
   "execution_count": 7,
   "id": "cd963b3b",
   "metadata": {},
   "outputs": [
    {
     "name": "stdout",
     "output_type": "stream",
     "text": [
      "Basic Info of the Dataset:\n",
      "<class 'pandas.core.frame.DataFrame'>\n",
      "Int64Index: 53940 entries, 1 to 27750\n",
      "Data columns (total 10 columns):\n",
      " #   Column   Non-Null Count  Dtype  \n",
      "---  ------   --------------  -----  \n",
      " 0   carat    53940 non-null  float64\n",
      " 1   cut      53940 non-null  object \n",
      " 2   color    53940 non-null  object \n",
      " 3   clarity  53940 non-null  object \n",
      " 4   depth    53940 non-null  float64\n",
      " 5   table    53940 non-null  float64\n",
      " 6   price    53940 non-null  int64  \n",
      " 7   x        53940 non-null  float64\n",
      " 8   y        53940 non-null  float64\n",
      " 9   z        53940 non-null  float64\n",
      "dtypes: float64(6), int64(1), object(3)\n",
      "memory usage: 4.5+ MB\n"
     ]
    }
   ],
   "source": [
    "print(\"Basic Info of the Dataset:\")\n",
    "info_data = data.info()"
   ]
  },
  {
   "cell_type": "code",
   "execution_count": 8,
   "id": "b35a7a16",
   "metadata": {},
   "outputs": [
    {
     "data": {
      "text/html": [
       "<div>\n",
       "<style scoped>\n",
       "    .dataframe tbody tr th:only-of-type {\n",
       "        vertical-align: middle;\n",
       "    }\n",
       "\n",
       "    .dataframe tbody tr th {\n",
       "        vertical-align: top;\n",
       "    }\n",
       "\n",
       "    .dataframe thead th {\n",
       "        text-align: right;\n",
       "    }\n",
       "</style>\n",
       "<table border=\"1\" class=\"dataframe\">\n",
       "  <thead>\n",
       "    <tr style=\"text-align: right;\">\n",
       "      <th></th>\n",
       "      <th>carat</th>\n",
       "      <th>cut</th>\n",
       "      <th>color</th>\n",
       "      <th>clarity</th>\n",
       "      <th>depth</th>\n",
       "      <th>table</th>\n",
       "      <th>price</th>\n",
       "      <th>x</th>\n",
       "      <th>y</th>\n",
       "      <th>z</th>\n",
       "    </tr>\n",
       "  </thead>\n",
       "  <tbody>\n",
       "    <tr>\n",
       "      <th>1</th>\n",
       "      <td>0.23</td>\n",
       "      <td>Ideal</td>\n",
       "      <td>E</td>\n",
       "      <td>SI2</td>\n",
       "      <td>61.5</td>\n",
       "      <td>55.0</td>\n",
       "      <td>326</td>\n",
       "      <td>3.95</td>\n",
       "      <td>3.98</td>\n",
       "      <td>2.43</td>\n",
       "    </tr>\n",
       "    <tr>\n",
       "      <th>2</th>\n",
       "      <td>0.21</td>\n",
       "      <td>Premium</td>\n",
       "      <td>E</td>\n",
       "      <td>SI1</td>\n",
       "      <td>59.8</td>\n",
       "      <td>61.0</td>\n",
       "      <td>326</td>\n",
       "      <td>3.89</td>\n",
       "      <td>3.84</td>\n",
       "      <td>2.31</td>\n",
       "    </tr>\n",
       "    <tr>\n",
       "      <th>3</th>\n",
       "      <td>0.23</td>\n",
       "      <td>Good</td>\n",
       "      <td>E</td>\n",
       "      <td>VS1</td>\n",
       "      <td>56.9</td>\n",
       "      <td>65.0</td>\n",
       "      <td>327</td>\n",
       "      <td>4.05</td>\n",
       "      <td>4.07</td>\n",
       "      <td>2.31</td>\n",
       "    </tr>\n",
       "    <tr>\n",
       "      <th>4</th>\n",
       "      <td>0.29</td>\n",
       "      <td>Premium</td>\n",
       "      <td>I</td>\n",
       "      <td>VS2</td>\n",
       "      <td>62.4</td>\n",
       "      <td>58.0</td>\n",
       "      <td>334</td>\n",
       "      <td>4.20</td>\n",
       "      <td>4.23</td>\n",
       "      <td>2.63</td>\n",
       "    </tr>\n",
       "    <tr>\n",
       "      <th>5</th>\n",
       "      <td>0.31</td>\n",
       "      <td>Good</td>\n",
       "      <td>J</td>\n",
       "      <td>SI2</td>\n",
       "      <td>63.3</td>\n",
       "      <td>58.0</td>\n",
       "      <td>335</td>\n",
       "      <td>4.34</td>\n",
       "      <td>4.35</td>\n",
       "      <td>2.75</td>\n",
       "    </tr>\n",
       "    <tr>\n",
       "      <th>6</th>\n",
       "      <td>0.24</td>\n",
       "      <td>Very Good</td>\n",
       "      <td>J</td>\n",
       "      <td>VVS2</td>\n",
       "      <td>62.8</td>\n",
       "      <td>57.0</td>\n",
       "      <td>336</td>\n",
       "      <td>3.94</td>\n",
       "      <td>3.96</td>\n",
       "      <td>2.48</td>\n",
       "    </tr>\n",
       "    <tr>\n",
       "      <th>7</th>\n",
       "      <td>0.24</td>\n",
       "      <td>Very Good</td>\n",
       "      <td>I</td>\n",
       "      <td>VVS1</td>\n",
       "      <td>62.3</td>\n",
       "      <td>57.0</td>\n",
       "      <td>336</td>\n",
       "      <td>3.95</td>\n",
       "      <td>3.98</td>\n",
       "      <td>2.47</td>\n",
       "    </tr>\n",
       "    <tr>\n",
       "      <th>8</th>\n",
       "      <td>0.26</td>\n",
       "      <td>Very Good</td>\n",
       "      <td>H</td>\n",
       "      <td>SI1</td>\n",
       "      <td>61.9</td>\n",
       "      <td>55.0</td>\n",
       "      <td>337</td>\n",
       "      <td>4.07</td>\n",
       "      <td>4.11</td>\n",
       "      <td>2.53</td>\n",
       "    </tr>\n",
       "    <tr>\n",
       "      <th>9</th>\n",
       "      <td>0.22</td>\n",
       "      <td>Fair</td>\n",
       "      <td>E</td>\n",
       "      <td>VS2</td>\n",
       "      <td>65.1</td>\n",
       "      <td>61.0</td>\n",
       "      <td>337</td>\n",
       "      <td>3.87</td>\n",
       "      <td>3.78</td>\n",
       "      <td>2.49</td>\n",
       "    </tr>\n",
       "    <tr>\n",
       "      <th>10</th>\n",
       "      <td>0.23</td>\n",
       "      <td>Very Good</td>\n",
       "      <td>H</td>\n",
       "      <td>VS1</td>\n",
       "      <td>59.4</td>\n",
       "      <td>61.0</td>\n",
       "      <td>338</td>\n",
       "      <td>4.00</td>\n",
       "      <td>4.05</td>\n",
       "      <td>2.39</td>\n",
       "    </tr>\n",
       "  </tbody>\n",
       "</table>\n",
       "</div>"
      ],
      "text/plain": [
       "    carat        cut color clarity  depth  table  price     x     y     z\n",
       "1    0.23      Ideal     E     SI2   61.5   55.0    326  3.95  3.98  2.43\n",
       "2    0.21    Premium     E     SI1   59.8   61.0    326  3.89  3.84  2.31\n",
       "3    0.23       Good     E     VS1   56.9   65.0    327  4.05  4.07  2.31\n",
       "4    0.29    Premium     I     VS2   62.4   58.0    334  4.20  4.23  2.63\n",
       "5    0.31       Good     J     SI2   63.3   58.0    335  4.34  4.35  2.75\n",
       "6    0.24  Very Good     J    VVS2   62.8   57.0    336  3.94  3.96  2.48\n",
       "7    0.24  Very Good     I    VVS1   62.3   57.0    336  3.95  3.98  2.47\n",
       "8    0.26  Very Good     H     SI1   61.9   55.0    337  4.07  4.11  2.53\n",
       "9    0.22       Fair     E     VS2   65.1   61.0    337  3.87  3.78  2.49\n",
       "10   0.23  Very Good     H     VS1   59.4   61.0    338  4.00  4.05  2.39"
      ]
     },
     "execution_count": 8,
     "metadata": {},
     "output_type": "execute_result"
    }
   ],
   "source": [
    "#printing forst 10 rows of the Dataset\n",
    "data.head(10)"
   ]
  },
  {
   "cell_type": "code",
   "execution_count": 9,
   "id": "5c6b3f83",
   "metadata": {},
   "outputs": [
    {
     "name": "stdout",
     "output_type": "stream",
     "text": [
      "Number of NA values in each column:\n"
     ]
    },
    {
     "data": {
      "text/plain": [
       "carat      0\n",
       "cut        0\n",
       "color      0\n",
       "clarity    0\n",
       "depth      0\n",
       "table      0\n",
       "price      0\n",
       "x          0\n",
       "y          0\n",
       "z          0\n",
       "dtype: int64"
      ]
     },
     "execution_count": 9,
     "metadata": {},
     "output_type": "execute_result"
    }
   ],
   "source": [
    "print(\"Number of NA values in each column:\")\n",
    "data.isnull().sum(axis=0)"
   ]
  },
  {
   "cell_type": "code",
   "execution_count": 10,
   "id": "91729f90",
   "metadata": {},
   "outputs": [
    {
     "data": {
      "text/html": [
       "<div>\n",
       "<style scoped>\n",
       "    .dataframe tbody tr th:only-of-type {\n",
       "        vertical-align: middle;\n",
       "    }\n",
       "\n",
       "    .dataframe tbody tr th {\n",
       "        vertical-align: top;\n",
       "    }\n",
       "\n",
       "    .dataframe thead th {\n",
       "        text-align: right;\n",
       "    }\n",
       "</style>\n",
       "<table border=\"1\" class=\"dataframe\">\n",
       "  <thead>\n",
       "    <tr style=\"text-align: right;\">\n",
       "      <th></th>\n",
       "      <th>carat</th>\n",
       "      <th>cut</th>\n",
       "      <th>color</th>\n",
       "      <th>clarity</th>\n",
       "      <th>depth</th>\n",
       "      <th>table</th>\n",
       "      <th>price</th>\n",
       "      <th>x</th>\n",
       "      <th>y</th>\n",
       "      <th>z</th>\n",
       "    </tr>\n",
       "  </thead>\n",
       "  <tbody>\n",
       "    <tr>\n",
       "      <th>1</th>\n",
       "      <td>0.23</td>\n",
       "      <td>Ideal</td>\n",
       "      <td>E</td>\n",
       "      <td>SI2</td>\n",
       "      <td>61.5</td>\n",
       "      <td>55.0</td>\n",
       "      <td>326</td>\n",
       "      <td>3.95</td>\n",
       "      <td>3.98</td>\n",
       "      <td>2.43</td>\n",
       "    </tr>\n",
       "    <tr>\n",
       "      <th>2</th>\n",
       "      <td>0.21</td>\n",
       "      <td>Premium</td>\n",
       "      <td>E</td>\n",
       "      <td>SI1</td>\n",
       "      <td>59.8</td>\n",
       "      <td>61.0</td>\n",
       "      <td>326</td>\n",
       "      <td>3.89</td>\n",
       "      <td>3.84</td>\n",
       "      <td>2.31</td>\n",
       "    </tr>\n",
       "    <tr>\n",
       "      <th>3</th>\n",
       "      <td>0.23</td>\n",
       "      <td>Good</td>\n",
       "      <td>E</td>\n",
       "      <td>VS1</td>\n",
       "      <td>56.9</td>\n",
       "      <td>65.0</td>\n",
       "      <td>327</td>\n",
       "      <td>4.05</td>\n",
       "      <td>4.07</td>\n",
       "      <td>2.31</td>\n",
       "    </tr>\n",
       "    <tr>\n",
       "      <th>4</th>\n",
       "      <td>0.29</td>\n",
       "      <td>Premium</td>\n",
       "      <td>I</td>\n",
       "      <td>VS2</td>\n",
       "      <td>62.4</td>\n",
       "      <td>58.0</td>\n",
       "      <td>334</td>\n",
       "      <td>4.20</td>\n",
       "      <td>4.23</td>\n",
       "      <td>2.63</td>\n",
       "    </tr>\n",
       "    <tr>\n",
       "      <th>5</th>\n",
       "      <td>0.31</td>\n",
       "      <td>Good</td>\n",
       "      <td>J</td>\n",
       "      <td>SI2</td>\n",
       "      <td>63.3</td>\n",
       "      <td>58.0</td>\n",
       "      <td>335</td>\n",
       "      <td>4.34</td>\n",
       "      <td>4.35</td>\n",
       "      <td>2.75</td>\n",
       "    </tr>\n",
       "    <tr>\n",
       "      <th>...</th>\n",
       "      <td>...</td>\n",
       "      <td>...</td>\n",
       "      <td>...</td>\n",
       "      <td>...</td>\n",
       "      <td>...</td>\n",
       "      <td>...</td>\n",
       "      <td>...</td>\n",
       "      <td>...</td>\n",
       "      <td>...</td>\n",
       "      <td>...</td>\n",
       "    </tr>\n",
       "    <tr>\n",
       "      <th>27746</th>\n",
       "      <td>2.00</td>\n",
       "      <td>Very Good</td>\n",
       "      <td>H</td>\n",
       "      <td>SI1</td>\n",
       "      <td>62.8</td>\n",
       "      <td>57.0</td>\n",
       "      <td>18803</td>\n",
       "      <td>7.95</td>\n",
       "      <td>8.00</td>\n",
       "      <td>5.01</td>\n",
       "    </tr>\n",
       "    <tr>\n",
       "      <th>27747</th>\n",
       "      <td>2.07</td>\n",
       "      <td>Ideal</td>\n",
       "      <td>G</td>\n",
       "      <td>SI2</td>\n",
       "      <td>62.5</td>\n",
       "      <td>55.0</td>\n",
       "      <td>18804</td>\n",
       "      <td>8.20</td>\n",
       "      <td>8.13</td>\n",
       "      <td>5.11</td>\n",
       "    </tr>\n",
       "    <tr>\n",
       "      <th>27748</th>\n",
       "      <td>1.51</td>\n",
       "      <td>Ideal</td>\n",
       "      <td>G</td>\n",
       "      <td>IF</td>\n",
       "      <td>61.7</td>\n",
       "      <td>55.0</td>\n",
       "      <td>18806</td>\n",
       "      <td>7.37</td>\n",
       "      <td>7.41</td>\n",
       "      <td>4.56</td>\n",
       "    </tr>\n",
       "    <tr>\n",
       "      <th>27749</th>\n",
       "      <td>2.00</td>\n",
       "      <td>Very Good</td>\n",
       "      <td>G</td>\n",
       "      <td>SI1</td>\n",
       "      <td>63.5</td>\n",
       "      <td>56.0</td>\n",
       "      <td>18818</td>\n",
       "      <td>7.90</td>\n",
       "      <td>7.97</td>\n",
       "      <td>5.04</td>\n",
       "    </tr>\n",
       "    <tr>\n",
       "      <th>27750</th>\n",
       "      <td>2.29</td>\n",
       "      <td>Premium</td>\n",
       "      <td>I</td>\n",
       "      <td>VS2</td>\n",
       "      <td>60.8</td>\n",
       "      <td>60.0</td>\n",
       "      <td>18823</td>\n",
       "      <td>8.50</td>\n",
       "      <td>8.47</td>\n",
       "      <td>5.16</td>\n",
       "    </tr>\n",
       "  </tbody>\n",
       "</table>\n",
       "<p>53940 rows × 10 columns</p>\n",
       "</div>"
      ],
      "text/plain": [
       "       carat        cut color clarity  depth  table  price     x     y     z\n",
       "1       0.23      Ideal     E     SI2   61.5   55.0    326  3.95  3.98  2.43\n",
       "2       0.21    Premium     E     SI1   59.8   61.0    326  3.89  3.84  2.31\n",
       "3       0.23       Good     E     VS1   56.9   65.0    327  4.05  4.07  2.31\n",
       "4       0.29    Premium     I     VS2   62.4   58.0    334  4.20  4.23  2.63\n",
       "5       0.31       Good     J     SI2   63.3   58.0    335  4.34  4.35  2.75\n",
       "...      ...        ...   ...     ...    ...    ...    ...   ...   ...   ...\n",
       "27746   2.00  Very Good     H     SI1   62.8   57.0  18803  7.95  8.00  5.01\n",
       "27747   2.07      Ideal     G     SI2   62.5   55.0  18804  8.20  8.13  5.11\n",
       "27748   1.51      Ideal     G      IF   61.7   55.0  18806  7.37  7.41  4.56\n",
       "27749   2.00  Very Good     G     SI1   63.5   56.0  18818  7.90  7.97  5.04\n",
       "27750   2.29    Premium     I     VS2   60.8   60.0  18823  8.50  8.47  5.16\n",
       "\n",
       "[53940 rows x 10 columns]"
      ]
     },
     "execution_count": 10,
     "metadata": {},
     "output_type": "execute_result"
    }
   ],
   "source": [
    "#Droping rows with NA values\n",
    "data_main = data.dropna()\n",
    "data_main"
   ]
  },
  {
   "cell_type": "code",
   "execution_count": 11,
   "id": "77954e47",
   "metadata": {},
   "outputs": [
    {
     "name": "stdout",
     "output_type": "stream",
     "text": [
      "<class 'pandas.core.frame.DataFrame'>\n",
      "Int64Index: 53940 entries, 1 to 27750\n",
      "Data columns (total 10 columns):\n",
      " #   Column   Non-Null Count  Dtype   \n",
      "---  ------   --------------  -----   \n",
      " 0   carat    53940 non-null  float64 \n",
      " 1   cut      53940 non-null  category\n",
      " 2   color    53940 non-null  category\n",
      " 3   clarity  53940 non-null  category\n",
      " 4   depth    53940 non-null  float64 \n",
      " 5   table    53940 non-null  float64 \n",
      " 6   price    53940 non-null  int64   \n",
      " 7   x        53940 non-null  float64 \n",
      " 8   y        53940 non-null  float64 \n",
      " 9   z        53940 non-null  float64 \n",
      "dtypes: category(3), float64(6), int64(1)\n",
      "memory usage: 3.4 MB\n"
     ]
    }
   ],
   "source": [
    "data_main['clarity'] = data_main['clarity'].astype('category')\n",
    "data_main['cut'] = data_main['cut'].astype('category')\n",
    "data_main['color'] = data_main['color'].astype('category')\n",
    "data_main.info()\n"
   ]
  },
  {
   "cell_type": "code",
   "execution_count": 12,
   "id": "b876ce93",
   "metadata": {
    "scrolled": true
   },
   "outputs": [
    {
     "name": "stdout",
     "output_type": "stream",
     "text": [
      "Different types of Diamonds and thier numbers\n"
     ]
    },
    {
     "data": {
      "text/plain": [
       "<AxesSubplot:>"
      ]
     },
     "execution_count": 12,
     "metadata": {},
     "output_type": "execute_result"
    },
    {
     "data": {
      "image/png": "[encoded data removed]",
      "text/plain": [
       "<Figure size 432x288 with 1 Axes>"
      ]
     },
     "metadata": {
      "needs_background": "light"
     },
     "output_type": "display_data"
    }
   ],
   "source": [
    "print(\"Different types of Diamonds and thier numbers\")\n",
    "item = data_main['cut'].tolist()\n",
    "data_fig1 = pd.DataFrame({'keys':item})\n",
    "pd.value_counts(data_fig1['keys']).plot.bar()"
   ]
  },
  {
   "cell_type": "code",
   "execution_count": 13,
   "id": "8bd7a94c",
   "metadata": {},
   "outputs": [
    {
     "name": "stdout",
     "output_type": "stream",
     "text": [
      "Different types of Diamonds and thier color\n"
     ]
    },
    {
     "data": {
      "text/plain": [
       "<AxesSubplot:>"
      ]
     },
     "execution_count": 13,
     "metadata": {},
     "output_type": "execute_result"
    },
    {
     "data": {
      "image/png": "[encoded data removed]",
      "text/plain": [
       "<Figure size 432x288 with 1 Axes>"
      ]
     },
     "metadata": {
      "needs_background": "light"
     },
     "output_type": "display_data"
    }
   ],
   "source": [
    "print(\"Different types of Diamonds and thier color\")\n",
    "item = data_main['color'].tolist()\n",
    "data_fig1 = pd.DataFrame({'keys':item})\n",
    "pd.value_counts(data_fig1['keys']).plot.bar()"
   ]
  },
  {
   "cell_type": "code",
   "execution_count": 14,
   "id": "70496dcd",
   "metadata": {},
   "outputs": [
    {
     "name": "stdout",
     "output_type": "stream",
     "text": [
      "Different types of Diamonds and thier clarity\n"
     ]
    },
    {
     "data": {
      "text/plain": [
       "<AxesSubplot:>"
      ]
     },
     "execution_count": 14,
     "metadata": {},
     "output_type": "execute_result"
    },
    {
     "data": {
      "image/png": "[encoded data removed]",
      "text/plain": [
       "<Figure size 432x288 with 1 Axes>"
      ]
     },
     "metadata": {
      "needs_background": "light"
     },
     "output_type": "display_data"
    }
   ],
   "source": [
    "print(\"Different types of Diamonds and thier clarity\")\n",
    "item = data_main['clarity'].tolist()\n",
    "data_fig1 = pd.DataFrame({'keys':item})\n",
    "pd.value_counts(data_fig1['keys']).plot.bar()"
   ]
  },
  {
   "cell_type": "code",
   "execution_count": 15,
   "id": "11ceb5ad",
   "metadata": {},
   "outputs": [
    {
     "name": "stdout",
     "output_type": "stream",
     "text": [
      "Plotting number of ideal cut diamonds with VS1 clarity\n"
     ]
    },
    {
     "data": {
      "text/plain": [
       "<AxesSubplot:>"
      ]
     },
     "execution_count": 15,
     "metadata": {},
     "output_type": "execute_result"
    },
    {
     "data": {
      "image/png": "[encoded data removed]",
      "text/plain": [
       "<Figure size 432x288 with 1 Axes>"
      ]
     },
     "metadata": {
      "needs_background": "light"
     },
     "output_type": "display_data"
    }
   ],
   "source": [
    "#Graph2: Plotting number of ideal cut diamonds with Sl1 clarity\n",
    "data_f=data_main.loc[(data_main['cut']=='Ideal') & (data_main['clarity'] == 'VS1')]\n",
    "item = data_f[\"cut\"].tolist()\n",
    "data_fig2 = pd.DataFrame({'keys': item})\n",
    "print(\"Plotting number of ideal cut diamonds with VS1 clarity\")\n",
    "pd.value_counts(data_fig2['keys']).plot.bar()"
   ]
  },
  {
   "cell_type": "code",
   "execution_count": 16,
   "id": "e8bd24aa",
   "metadata": {
    "scrolled": true
   },
   "outputs": [
    {
     "name": "stdout",
     "output_type": "stream",
     "text": [
      "<class 'pandas.core.frame.DataFrame'>\n",
      "Int64Index: 53940 entries, 1 to 27750\n",
      "Data columns (total 10 columns):\n",
      " #   Column   Non-Null Count  Dtype   \n",
      "---  ------   --------------  -----   \n",
      " 0   carat    53940 non-null  float64 \n",
      " 1   cut      53940 non-null  category\n",
      " 2   color    53940 non-null  category\n",
      " 3   clarity  53940 non-null  category\n",
      " 4   depth    53940 non-null  float64 \n",
      " 5   table    53940 non-null  float64 \n",
      " 6   price    53940 non-null  int64   \n",
      " 7   x        53940 non-null  float64 \n",
      " 8   y        53940 non-null  float64 \n",
      " 9   z        53940 non-null  float64 \n",
      "dtypes: category(3), float64(6), int64(1)\n",
      "memory usage: 3.4 MB\n"
     ]
    },
    {
     "data": {
      "text/html": [
       "<div>\n",
       "<style scoped>\n",
       "    .dataframe tbody tr th:only-of-type {\n",
       "        vertical-align: middle;\n",
       "    }\n",
       "\n",
       "    .dataframe tbody tr th {\n",
       "        vertical-align: top;\n",
       "    }\n",
       "\n",
       "    .dataframe thead th {\n",
       "        text-align: right;\n",
       "    }\n",
       "</style>\n",
       "<table border=\"1\" class=\"dataframe\">\n",
       "  <thead>\n",
       "    <tr style=\"text-align: right;\">\n",
       "      <th></th>\n",
       "      <th>carat</th>\n",
       "      <th>cut</th>\n",
       "      <th>color</th>\n",
       "      <th>clarity</th>\n",
       "      <th>depth</th>\n",
       "      <th>table</th>\n",
       "      <th>price</th>\n",
       "      <th>x</th>\n",
       "      <th>y</th>\n",
       "      <th>z</th>\n",
       "    </tr>\n",
       "  </thead>\n",
       "  <tbody>\n",
       "    <tr>\n",
       "      <th>1</th>\n",
       "      <td>0.23</td>\n",
       "      <td>Ideal</td>\n",
       "      <td>E</td>\n",
       "      <td>SI2</td>\n",
       "      <td>61.5</td>\n",
       "      <td>55.0</td>\n",
       "      <td>326</td>\n",
       "      <td>3.95</td>\n",
       "      <td>3.98</td>\n",
       "      <td>2.43</td>\n",
       "    </tr>\n",
       "    <tr>\n",
       "      <th>2</th>\n",
       "      <td>0.21</td>\n",
       "      <td>Premium</td>\n",
       "      <td>E</td>\n",
       "      <td>SI1</td>\n",
       "      <td>59.8</td>\n",
       "      <td>61.0</td>\n",
       "      <td>326</td>\n",
       "      <td>3.89</td>\n",
       "      <td>3.84</td>\n",
       "      <td>2.31</td>\n",
       "    </tr>\n",
       "    <tr>\n",
       "      <th>3</th>\n",
       "      <td>0.23</td>\n",
       "      <td>Good</td>\n",
       "      <td>E</td>\n",
       "      <td>VS1</td>\n",
       "      <td>56.9</td>\n",
       "      <td>65.0</td>\n",
       "      <td>327</td>\n",
       "      <td>4.05</td>\n",
       "      <td>4.07</td>\n",
       "      <td>2.31</td>\n",
       "    </tr>\n",
       "    <tr>\n",
       "      <th>4</th>\n",
       "      <td>0.29</td>\n",
       "      <td>Premium</td>\n",
       "      <td>I</td>\n",
       "      <td>VS2</td>\n",
       "      <td>62.4</td>\n",
       "      <td>58.0</td>\n",
       "      <td>334</td>\n",
       "      <td>4.20</td>\n",
       "      <td>4.23</td>\n",
       "      <td>2.63</td>\n",
       "    </tr>\n",
       "    <tr>\n",
       "      <th>5</th>\n",
       "      <td>0.31</td>\n",
       "      <td>Good</td>\n",
       "      <td>J</td>\n",
       "      <td>SI2</td>\n",
       "      <td>63.3</td>\n",
       "      <td>58.0</td>\n",
       "      <td>335</td>\n",
       "      <td>4.34</td>\n",
       "      <td>4.35</td>\n",
       "      <td>2.75</td>\n",
       "    </tr>\n",
       "    <tr>\n",
       "      <th>...</th>\n",
       "      <td>...</td>\n",
       "      <td>...</td>\n",
       "      <td>...</td>\n",
       "      <td>...</td>\n",
       "      <td>...</td>\n",
       "      <td>...</td>\n",
       "      <td>...</td>\n",
       "      <td>...</td>\n",
       "      <td>...</td>\n",
       "      <td>...</td>\n",
       "    </tr>\n",
       "    <tr>\n",
       "      <th>27746</th>\n",
       "      <td>2.00</td>\n",
       "      <td>Very Good</td>\n",
       "      <td>H</td>\n",
       "      <td>SI1</td>\n",
       "      <td>62.8</td>\n",
       "      <td>57.0</td>\n",
       "      <td>18803</td>\n",
       "      <td>7.95</td>\n",
       "      <td>8.00</td>\n",
       "      <td>5.01</td>\n",
       "    </tr>\n",
       "    <tr>\n",
       "      <th>27747</th>\n",
       "      <td>2.07</td>\n",
       "      <td>Ideal</td>\n",
       "      <td>G</td>\n",
       "      <td>SI2</td>\n",
       "      <td>62.5</td>\n",
       "      <td>55.0</td>\n",
       "      <td>18804</td>\n",
       "      <td>8.20</td>\n",
       "      <td>8.13</td>\n",
       "      <td>5.11</td>\n",
       "    </tr>\n",
       "    <tr>\n",
       "      <th>27748</th>\n",
       "      <td>1.51</td>\n",
       "      <td>Ideal</td>\n",
       "      <td>G</td>\n",
       "      <td>IF</td>\n",
       "      <td>61.7</td>\n",
       "      <td>55.0</td>\n",
       "      <td>18806</td>\n",
       "      <td>7.37</td>\n",
       "      <td>7.41</td>\n",
       "      <td>4.56</td>\n",
       "    </tr>\n",
       "    <tr>\n",
       "      <th>27749</th>\n",
       "      <td>2.00</td>\n",
       "      <td>Very Good</td>\n",
       "      <td>G</td>\n",
       "      <td>SI1</td>\n",
       "      <td>63.5</td>\n",
       "      <td>56.0</td>\n",
       "      <td>18818</td>\n",
       "      <td>7.90</td>\n",
       "      <td>7.97</td>\n",
       "      <td>5.04</td>\n",
       "    </tr>\n",
       "    <tr>\n",
       "      <th>27750</th>\n",
       "      <td>2.29</td>\n",
       "      <td>Premium</td>\n",
       "      <td>I</td>\n",
       "      <td>VS2</td>\n",
       "      <td>60.8</td>\n",
       "      <td>60.0</td>\n",
       "      <td>18823</td>\n",
       "      <td>8.50</td>\n",
       "      <td>8.47</td>\n",
       "      <td>5.16</td>\n",
       "    </tr>\n",
       "  </tbody>\n",
       "</table>\n",
       "<p>53940 rows × 10 columns</p>\n",
       "</div>"
      ],
      "text/plain": [
       "       carat        cut color clarity  depth  table  price     x     y     z\n",
       "1       0.23      Ideal     E     SI2   61.5   55.0    326  3.95  3.98  2.43\n",
       "2       0.21    Premium     E     SI1   59.8   61.0    326  3.89  3.84  2.31\n",
       "3       0.23       Good     E     VS1   56.9   65.0    327  4.05  4.07  2.31\n",
       "4       0.29    Premium     I     VS2   62.4   58.0    334  4.20  4.23  2.63\n",
       "5       0.31       Good     J     SI2   63.3   58.0    335  4.34  4.35  2.75\n",
       "...      ...        ...   ...     ...    ...    ...    ...   ...   ...   ...\n",
       "27746   2.00  Very Good     H     SI1   62.8   57.0  18803  7.95  8.00  5.01\n",
       "27747   2.07      Ideal     G     SI2   62.5   55.0  18804  8.20  8.13  5.11\n",
       "27748   1.51      Ideal     G      IF   61.7   55.0  18806  7.37  7.41  4.56\n",
       "27749   2.00  Very Good     G     SI1   63.5   56.0  18818  7.90  7.97  5.04\n",
       "27750   2.29    Premium     I     VS2   60.8   60.0  18823  8.50  8.47  5.16\n",
       "\n",
       "[53940 rows x 10 columns]"
      ]
     },
     "execution_count": 16,
     "metadata": {},
     "output_type": "execute_result"
    }
   ],
   "source": [
    "data_main['clarity'] = data_main['clarity'].astype('category')\n",
    "data_main['cut'] = data_main['cut'].astype('category')\n",
    "data_main['color'] = data_main['color'].astype('category')\n",
    "data_main.info()\n",
    "data_main"
   ]
  },
  {
   "cell_type": "code",
   "execution_count": 17,
   "id": "e058f8c1",
   "metadata": {
    "scrolled": true
   },
   "outputs": [
    {
     "data": {
      "text/plain": [
       "<BarContainer object of 53940 artists>"
      ]
     },
     "execution_count": 17,
     "metadata": {},
     "output_type": "execute_result"
    },
    {
     "data": {
      "image/png": "[encoded data removed]",
      "text/plain": [
       "<Figure size 432x288 with 1 Axes>"
      ]
     },
     "metadata": {
      "needs_background": "light"
     },
     "output_type": "display_data"
    }
   ],
   "source": [
    "plt.bar(range(53940),data['price'])"
   ]
  },
  {
   "cell_type": "code",
   "execution_count": 18,
   "id": "947b6e37",
   "metadata": {},
   "outputs": [
    {
     "name": "stdout",
     "output_type": "stream",
     "text": [
      "       carat        cut color clarity  depth  table  price     x     y     z\n",
      "1       0.23      Ideal     E     SI2   61.5   55.0    326  3.95  3.98  2.43\n",
      "2       0.21    Premium     E     SI1   59.8   61.0    326  3.89  3.84  2.31\n",
      "3       0.23       Good     E     VS1   56.9   65.0    327  4.05  4.07  2.31\n",
      "4       0.29    Premium     I     VS2   62.4   58.0    334  4.20  4.23  2.63\n",
      "5       0.31       Good     J     SI2   63.3   58.0    335  4.34  4.35  2.75\n",
      "...      ...        ...   ...     ...    ...    ...    ...   ...   ...   ...\n",
      "27746   2.00  Very Good     H     SI1   62.8   57.0  18803  7.95  8.00  5.01\n",
      "27747   2.07      Ideal     G     SI2   62.5   55.0  18804  8.20  8.13  5.11\n",
      "27748   1.51      Ideal     G      IF   61.7   55.0  18806  7.37  7.41  4.56\n",
      "27749   2.00  Very Good     G     SI1   63.5   56.0  18818  7.90  7.97  5.04\n",
      "27750   2.29    Premium     I     VS2   60.8   60.0  18823  8.50  8.47  5.16\n",
      "\n",
      "[53940 rows x 10 columns]\n",
      "1            Ideal\n",
      "2          Premium\n",
      "3             Good\n",
      "4          Premium\n",
      "5             Good\n",
      "           ...    \n",
      "27746    Very Good\n",
      "27747        Ideal\n",
      "27748        Ideal\n",
      "27749    Very Good\n",
      "27750      Premium\n",
      "Name: cut, Length: 53940, dtype: object\n",
      "{'Ideal': 21551, 'Premium': 13791, 'Good': 4906, 'Very Good': 12082, 'Fair': 1610}\n"
     ]
    }
   ],
   "source": [
    "# the price of a diamond is affected by the 4Cs i.e., Color, clarity, cut, and carat\n",
    "#we need to assign a factor to the classified values such as color, and cut\n",
    "#first we get the count of classified elements: cut\n",
    "\n",
    "print(data)\n",
    "data_cut = data['cut']\n",
    "print(data_cut)\n",
    "data_cut_n = data_cut.to_numpy()\n",
    "#print(data_cut_n)\n",
    "data_cut_n_l = data_cut_n.tolist()\n",
    "res = {}\n",
    "\n",
    "for i in data_cut_n_l:\n",
    "    res[i] = data_cut_n_l.count(i)\n",
    "print(res)\n",
    "#plt.plot(data_n[:0],data_n[:6])"
   ]
  },
  {
   "cell_type": "code",
   "execution_count": 19,
   "id": "2a01f962",
   "metadata": {},
   "outputs": [
    {
     "name": "stdout",
     "output_type": "stream",
     "text": [
      "53940\n",
      "[[5]\n",
      " [4]\n",
      " [2]\n",
      " ...\n",
      " [5]\n",
      " [3]\n",
      " [4]]\n"
     ]
    }
   ],
   "source": [
    "#number of classifications obtained:5, assigning factor accordingly {ideal:5, premium:4, very good:3, good:2, fair:1}\n",
    "print(len(data_cut))\n",
    "#print(data_cut_n_l)\n",
    "for i in range(53940):\n",
    "    if data_cut_n_l[i] == 'Ideal':\n",
    "        data_cut_n_l[i] = 5\n",
    "    elif data_cut_n_l[i] == 'Premium':\n",
    "        data_cut_n_l[i] = 4\n",
    "    elif data_cut_n_l[i] == 'Very Good':\n",
    "        data_cut_n_l[i] = 3\n",
    "    elif data_cut_n_l[i] == 'Good':\n",
    "        data_cut_n_l[i] = 2\n",
    "    elif data_cut_n_l[i] == 'Fair':\n",
    "        data_cut_n_l[i] = 1\n",
    "#print(data_cut_n_l)\n",
    "data_cut_n_l_r = np.reshape(data_cut_n_l, (53940,1))\n",
    "print(data_cut_n_l_r)\n",
    "        "
   ]
  },
  {
   "cell_type": "code",
   "execution_count": 20,
   "id": "a61f0d94",
   "metadata": {},
   "outputs": [
    {
     "name": "stdout",
     "output_type": "stream",
     "text": [
      "1        E\n",
      "2        E\n",
      "3        E\n",
      "4        I\n",
      "5        J\n",
      "        ..\n",
      "27746    H\n",
      "27747    G\n",
      "27748    G\n",
      "27749    G\n",
      "27750    I\n",
      "Name: color, Length: 53940, dtype: object\n",
      "{'E': 9797, 'I': 5422, 'J': 2808, 'H': 8304, 'F': 9542, 'G': 11292, 'D': 6775}\n"
     ]
    }
   ],
   "source": [
    "# the price of a diamond is affected by the 4Cs i.e., Color, clarity, cut, and carat\n",
    "#we need to assign a factor to the classified values such as color, and cut\n",
    "#first we get the count of classified elements: color\n",
    "data_n = data.to_numpy()\n",
    "#print(data_n)\n",
    "data_color = data['color']\n",
    "print(data_color)\n",
    "data_color_n = data_color.to_numpy()\n",
    "#print(data_cut_n)\n",
    "data_color_n_l = data_color_n.tolist()\n",
    "res = {}\n",
    "\n",
    "for i in data_color_n_l:\n",
    "    res[i] = data_color_n_l.count(i)\n",
    "print(res)"
   ]
  },
  {
   "cell_type": "code",
   "execution_count": 21,
   "id": "9fa1ad2d",
   "metadata": {},
   "outputs": [
    {
     "name": "stdout",
     "output_type": "stream",
     "text": [
      "53940\n",
      "[[7]\n",
      " [7]\n",
      " [7]\n",
      " ...\n",
      " [2]\n",
      " [2]\n",
      " [6]]\n"
     ]
    }
   ],
   "source": [
    "#number of classifications obtained:7, assigning factor accordingly {E:6, I:5, J:4, H:2, F:3, G:2, D:1}\n",
    "print(len(data_color))\n",
    "#print(data_cut_n_l)\n",
    "for i in range(53940):\n",
    "    if data_color_n_l[i] == 'E':\n",
    "        data_color_n_l[i] = 7\n",
    "    elif data_color_n_l[i] == 'I':\n",
    "        data_color_n_l[i] = 6\n",
    "    elif data_color_n_l[i] == 'J':\n",
    "        data_color_n_l[i] = 5\n",
    "    elif data_color_n_l[i] == 'H':\n",
    "        data_color_n_l[i] = 4\n",
    "    elif data_color_n_l[i] == 'F':\n",
    "        data_color_n_l[i] = 3\n",
    "    elif data_color_n_l[i] == 'G':\n",
    "        data_color_n_l[i] = 2\n",
    "    elif data_color_n_l[i] == 'D':\n",
    "        data_color_n_l[i] = 1\n",
    "#print(data_cut_n_l)\n",
    "data_color_n_l_r = np.reshape(data_color_n_l, (53940,1))\n",
    "print(data_color_n_l_r)\n",
    "        "
   ]
  },
  {
   "cell_type": "code",
   "execution_count": 22,
   "id": "a9d0a5fe",
   "metadata": {},
   "outputs": [
    {
     "name": "stdout",
     "output_type": "stream",
     "text": [
      "1        SI2\n",
      "2        SI1\n",
      "3        VS1\n",
      "4        VS2\n",
      "5        SI2\n",
      "        ... \n",
      "27746    SI1\n",
      "27747    SI2\n",
      "27748     IF\n",
      "27749    SI1\n",
      "27750    VS2\n",
      "Name: clarity, Length: 53940, dtype: object\n",
      "{'SI2': 9194, 'SI1': 13065, 'VS1': 8171, 'VS2': 12258, 'VVS2': 5066, 'VVS1': 3655, 'I1': 741, 'IF': 1790}\n"
     ]
    }
   ],
   "source": [
    "# the price of a diamond is affected by the 4Cs i.e., Color, clarity, cut, and carat\n",
    "#we need to assign a factor to the classified values such as color, and cut\n",
    "#first we get the count of classified elements: clarity\n",
    "data_n = data.to_numpy()\n",
    "#print(data_n)\n",
    "data_clarity = data['clarity']\n",
    "print(data_clarity)\n",
    "data_clarity_n = data_clarity.to_numpy()\n",
    "#print(data_cut_n)\n",
    "data_clarity_n_l = data_clarity_n.tolist()\n",
    "res = {}\n",
    "\n",
    "for i in data_clarity_n_l:\n",
    "    res[i] = data_clarity_n_l.count(i)\n",
    "print(res)"
   ]
  },
  {
   "cell_type": "code",
   "execution_count": 23,
   "id": "0d1ba4ec",
   "metadata": {},
   "outputs": [
    {
     "name": "stdout",
     "output_type": "stream",
     "text": [
      "53940\n",
      "[[2]\n",
      " [3]\n",
      " [5]\n",
      " ...\n",
      " [8]\n",
      " [3]\n",
      " [4]]\n"
     ]
    }
   ],
   "source": [
    "#number of classifications obtained:8, assigning factor accordingly {SI2:2, SI1:3, VS1:5, VS2:4, VVS2:6, VVS1:7, I1:1, IF:8}\n",
    "print(len(data_clarity))\n",
    "#print(data_cut_n_l)\n",
    "for i in range(53940):\n",
    "    if data_clarity_n_l[i] == 'IF':\n",
    "        data_clarity_n_l[i] = 8\n",
    "    elif data_clarity_n_l[i] == 'VVS1':\n",
    "        data_clarity_n_l[i] = 7\n",
    "    elif data_clarity_n_l[i] == 'VVS2':\n",
    "        data_clarity_n_l[i] = 6\n",
    "    elif data_clarity_n_l[i] == 'VS1':\n",
    "        data_clarity_n_l[i] = 5\n",
    "    elif data_clarity_n_l[i] == 'VS2':\n",
    "        data_clarity_n_l[i] = 4\n",
    "    elif data_clarity_n_l[i] == 'SI1':\n",
    "        data_clarity_n_l[i] = 3\n",
    "    elif data_clarity_n_l[i] == 'SI2':\n",
    "        data_clarity_n_l[i] = 2\n",
    "    elif data_clarity_n_l[i] == 'I1':\n",
    "        data_clarity_n_l[i] = 1\n",
    "#print(data_cut_n_l)\n",
    "data_clarity_n_l_r = np.reshape(data_clarity_n_l, (53940,1))\n",
    "print(data_clarity_n_l_r)"
   ]
  },
  {
   "cell_type": "code",
   "execution_count": 24,
   "id": "f77ee850",
   "metadata": {},
   "outputs": [
    {
     "name": "stdout",
     "output_type": "stream",
     "text": [
      "[[0.23]\n",
      " [0.21]\n",
      " [0.23]\n",
      " ...\n",
      " [1.51]\n",
      " [2.  ]\n",
      " [2.29]]\n",
      "[1. 1. 1. ... 1. 1. 1.]\n",
      "53940\n",
      "43152\n",
      "       bias  carat  clarity  color  cut  depth\n",
      "0       1.0   0.23        2      7    5   61.5\n",
      "1       1.0   0.21        3      7    4   59.8\n",
      "2       1.0   0.23        5      7    2   56.9\n",
      "3       1.0   0.29        4      6    4   62.4\n",
      "4       1.0   0.31        2      5    2   63.3\n",
      "...     ...    ...      ...    ...  ...    ...\n",
      "53935   1.0   2.00        3      4    3   62.8\n",
      "53936   1.0   2.07        2      2    5   62.5\n",
      "53937   1.0   1.51        8      2    5   61.7\n",
      "53938   1.0   2.00        3      2    3   63.5\n",
      "53939   1.0   2.29        4      6    4   60.8\n",
      "\n",
      "[53940 rows x 6 columns]\n"
     ]
    }
   ],
   "source": [
    "\n",
    "bias = np.ones(53940)\n",
    "data_carat = data['carat']\n",
    "data_carat_n = data_carat.to_numpy()\n",
    "data_carat_n_l = data_carat_n.tolist()\n",
    "data_carat_n_l_r = np.reshape(data_carat_n_l, (53940,1))\n",
    "print(data_carat_n_l_r)\n",
    "#print(data_carat)\n",
    "print(bias)\n",
    "print(len(bias))\n",
    "#our 'y', as in our output shall be the price of the diamond\n",
    "data_price = data['price']\n",
    "data_price_n = data_price.to_numpy()\n",
    "data_price_n_l = data_price_n.tolist()\n",
    "data_price_train_n_l = data_price_n_l[10788:]\n",
    "print(len(data_price_train_n_l))\n",
    "data_price_test_n_l = data_price_n_l[:10788]\n",
    "#print(data_price_n_l)\n",
    "#we shall also take the depth of the diamond for visualization purposes\n",
    "data_depth = data['depth']\n",
    "data_depth_n = data_depth.to_numpy()\n",
    "data_depth_n_l = data_depth_n.tolist()\n",
    "#print(data_depth_n_l)\n",
    "data_eval = pd.DataFrame({'bias':bias,'carat':data_carat_n_l,'clarity':data_clarity_n_l,'color':data_color_n_l,'cut':data_cut_n_l, 'depth':data_depth_n_l})\n",
    "\n",
    "print(data_eval)\n"
   ]
  },
  {
   "cell_type": "code",
   "execution_count": 25,
   "id": "19f63c9c",
   "metadata": {},
   "outputs": [
    {
     "name": "stdout",
     "output_type": "stream",
     "text": [
      "sum bias         53940.00\n",
      "carat        43040.87\n",
      "clarity     218512.00\n",
      "color       206352.00\n",
      "cut         210587.00\n",
      "depth      3330762.90\n",
      "dtype: float64\n",
      "count bias       53940\n",
      "carat      53940\n",
      "clarity    53940\n",
      "color      53940\n",
      "cut        53940\n",
      "depth      53940\n",
      "dtype: int64\n",
      "mean bias        1.000000\n",
      "carat       0.797940\n",
      "clarity     4.051020\n",
      "color       3.825584\n",
      "cut         3.904097\n",
      "depth      61.749405\n",
      "dtype: float64\n",
      "Standard Deviation bias       0.000000\n",
      "carat      0.474011\n",
      "clarity    1.647136\n",
      "color      2.050156\n",
      "cut        1.116600\n",
      "depth      1.432621\n",
      "dtype: float64\n",
      "Mode    bias  carat  clarity  color  cut  depth\n",
      "0   1.0    0.3        3      2    5   62.0\n",
      "Median bias        1.0\n",
      "carat       0.7\n",
      "clarity     4.0\n",
      "color       3.0\n",
      "cut         4.0\n",
      "depth      61.8\n",
      "dtype: float64\n"
     ]
    }
   ],
   "source": [
    "#5 main statistics of our data\n",
    "print('sum', data_eval.sum())\n",
    "print('count', data_eval.count())\n",
    "print('mean', data_eval.mean())\n",
    "print('Standard Deviation', data_eval.std())\n",
    "print('Mode', data_eval.mode())\n",
    "print('Median', data_eval.median())"
   ]
  },
  {
   "cell_type": "code",
   "execution_count": 26,
   "id": "bd24dad8",
   "metadata": {},
   "outputs": [
    {
     "data": {
      "image/png": "[encoded data removed]",
      "text/plain": [
       "<Figure size 360x360 with 1 Axes>"
      ]
     },
     "metadata": {
      "needs_background": "light"
     },
     "output_type": "display_data"
    }
   ],
   "source": [
    "\n",
    "#fig.suptitle('Vertically stacked subplots')\n",
    "plt.rcParams[\"figure.figsize\"] = (5,5)\n",
    "#plt.rcParams[\"figure.rotate\"] = (15,15)\n",
    "plt.bar(range(53940),data_carat_n_l , label='carat')\n",
    "plt.legend()\n",
    "plt.grid()\n",
    "\n",
    "\n"
   ]
  },
  {
   "cell_type": "code",
   "execution_count": 27,
   "id": "de63f90e",
   "metadata": {},
   "outputs": [
    {
     "name": "stdout",
     "output_type": "stream",
     "text": [
      "       carat    cut color clarity  depth  table  price     x     y     z\n",
      "1       0.23  Ideal     E     SI2   61.5   55.0    326  3.95  3.98  2.43\n",
      "12      0.23  Ideal     J     VS1   62.8   56.0    340  3.93  3.90  2.46\n",
      "14      0.31  Ideal     J     SI2   62.2   54.0    344  4.35  4.37  2.71\n",
      "17      0.30  Ideal     I     SI2   62.0   54.0    348  4.31  4.34  2.68\n",
      "28263   0.25  Ideal     H     SI1   62.8   54.0    357  4.05  4.07  2.55\n",
      "...      ...    ...   ...     ...    ...    ...    ...   ...   ...   ...\n",
      "27736   1.60  Ideal     F     VS1   62.0   56.0  18780  7.47  7.52  4.65\n",
      "27739   2.05  Ideal     G     SI1   61.9   57.0  18787  8.10  8.16  5.03\n",
      "27742   2.15  Ideal     G     SI2   62.6   54.0  18791  8.29  8.35  5.21\n",
      "27747   2.07  Ideal     G     SI2   62.5   55.0  18804  8.20  8.13  5.11\n",
      "27748   1.51  Ideal     G      IF   61.7   55.0  18806  7.37  7.41  4.56\n",
      "\n",
      "[21551 rows x 10 columns]\n"
     ]
    },
    {
     "name": "stderr",
     "output_type": "stream",
     "text": [
      "C:\\Users\\surya\\anaconda3\\lib\\site-packages\\IPython\\core\\pylabtools.py:151: UserWarning: Creating legend with loc=\"best\" can be slow with large amounts of data.\n",
      "  fig.canvas.print_figure(bytes_io, **kw)\n"
     ]
    },
    {
     "data": {
      "image/png": "[encoded data removed]",
      "text/plain": [
       "<Figure size 360x360 with 1 Axes>"
      ]
     },
     "metadata": {
      "needs_background": "light"
     },
     "output_type": "display_data"
    }
   ],
   "source": [
    "\n",
    "#Graph2: Plotting number of ideal cut diamonds with Sl1 clarity\n",
    "data_f_cut_clarity=data_main.loc[(data_main['cut']=='Ideal')]\n",
    "print(data_f_cut_clarity)\n",
    "data_f_cut_clarity_n = data_f_cut_clarity.to_numpy()\n",
    "data_f_cut_clarity_n_l = data_f_cut_clarity_n.tolist()\n",
    "item = data_f_cut_clarity[\"clarity\"].tolist()\n",
    "#print(item)\n",
    "plt.bar(range(21551), item, label='cut & clarity')\n",
    "plt.legend()\n",
    "plt.grid()"
   ]
  },
  {
   "cell_type": "code",
   "execution_count": 28,
   "id": "4acc37f5",
   "metadata": {},
   "outputs": [
    {
     "data": {
      "image/png": "[encoded data removed]",
      "text/plain": [
       "<Figure size 360x360 with 1 Axes>"
      ]
     },
     "metadata": {
      "needs_background": "light"
     },
     "output_type": "display_data"
    }
   ],
   "source": [
    "plt.bar(range(53940),data_cut_n_l ,label='cut')\n",
    "plt.legend()\n",
    "plt.grid()"
   ]
  },
  {
   "cell_type": "code",
   "execution_count": 29,
   "id": "4584f806",
   "metadata": {},
   "outputs": [
    {
     "data": {
      "image/png": "[encoded data removed]",
      "text/plain": [
       "<Figure size 360x360 with 1 Axes>"
      ]
     },
     "metadata": {
      "needs_background": "light"
     },
     "output_type": "display_data"
    }
   ],
   "source": [
    "plt.bar(range(53940),data_clarity_n_l,label='clarity')\n",
    "plt.legend()\n",
    "plt.grid()"
   ]
  },
  {
   "cell_type": "code",
   "execution_count": 30,
   "id": "b302363b",
   "metadata": {},
   "outputs": [
    {
     "data": {
      "image/png": "[encoded data removed]",
      "text/plain": [
       "<Figure size 360x360 with 1 Axes>"
      ]
     },
     "metadata": {
      "needs_background": "light"
     },
     "output_type": "display_data"
    }
   ],
   "source": [
    "\n",
    "plt.bar(range(53940),data_depth_n_l,label='depth')\n",
    "plt.legend()\n",
    "plt.grid()"
   ]
  },
  {
   "cell_type": "markdown",
   "id": "3b3146c3",
   "metadata": {},
   "source": [
    "## Part II: Linear Regression"
   ]
  },
  {
   "cell_type": "code",
   "execution_count": 31,
   "id": "b956e88a",
   "metadata": {},
   "outputs": [
    {
     "name": "stdout",
     "output_type": "stream",
     "text": [
      "       bias  carat  clarity  color  cut  depth\n",
      "10788   1.0   0.30        6      7    5   61.1\n",
      "10789   1.0   0.31        6      7    4   60.5\n",
      "10790   1.0   0.30        6      7    5   61.1\n",
      "10791   1.0   0.32        6      7    5   60.8\n",
      "10792   1.0   0.32        6      7    5   60.9\n",
      "...     ...    ...      ...    ...  ...    ...\n",
      "53935   1.0   2.00        3      4    3   62.8\n",
      "53936   1.0   2.07        2      2    5   62.5\n",
      "53937   1.0   1.51        8      2    5   61.7\n",
      "53938   1.0   2.00        3      2    3   63.5\n",
      "53939   1.0   2.29        4      6    4   60.8\n",
      "\n",
      "[43152 rows x 6 columns]\n",
      "       bias  carat  clarity  color  cut  depth\n",
      "0       1.0   0.23        2      7    5   61.5\n",
      "1       1.0   0.21        3      7    4   59.8\n",
      "2       1.0   0.23        5      7    2   56.9\n",
      "3       1.0   0.29        4      6    4   62.4\n",
      "4       1.0   0.31        2      5    2   63.3\n",
      "...     ...    ...      ...    ...  ...    ...\n",
      "10783   1.0   0.31        6      7    5   61.6\n",
      "10784   1.0   0.40        3      7    3   62.2\n",
      "10785   1.0   0.31        8      6    5   61.3\n",
      "10786   1.0   0.31        8      6    5   62.2\n",
      "10787   1.0   0.30        6      7    5   61.3\n",
      "\n",
      "[10788 rows x 6 columns]\n",
      "43152\n",
      "[[ 1.    1.    1.   ...  1.    1.    1.  ]\n",
      " [ 0.3   0.31  0.3  ...  1.51  2.    2.29]\n",
      " [ 6.    6.    6.   ...  8.    3.    4.  ]\n",
      " [ 7.    7.    7.   ...  2.    2.    6.  ]\n",
      " [ 5.    4.    5.   ...  5.    3.    4.  ]\n",
      " [61.1  60.5  61.1  ... 61.7  63.5  60.8 ]]\n"
     ]
    }
   ],
   "source": [
    "#we split the data set to train and test here.\n",
    "data_eval_train = data_eval.iloc[10788:]\n",
    "print(data_eval_train)\n",
    "data_eval_test = data_eval.iloc[:10788]\n",
    "print(data_eval_test)\n",
    "data_eval_test_n = data_eval_test.to_numpy()\n",
    "data_eval_test_n_l = data_eval_test_n.tolist()\n",
    "\n",
    "data_eval_train_n = data_eval_train.to_numpy()\n",
    "print(len(data_eval_train_n))\n",
    "data_eval_train_n_tra = np.matrix.transpose(data_eval_train_n)\n",
    "print(data_eval_train_n_tra)\n"
   ]
  },
  {
   "cell_type": "code",
   "execution_count": 32,
   "id": "4f9707ff",
   "metadata": {},
   "outputs": [
    {
     "name": "stdout",
     "output_type": "stream",
     "text": [
      "Shape of X_Train (43152, 6)\n",
      "Shape of Y_Train (43152,)\n",
      "Shape of X_Test (10788, 6)\n",
      "Shape of Y_Test (10788,)\n"
     ]
    }
   ],
   "source": [
    "print('Shape of X_Train', np.shape(data_eval_train))\n",
    "print('Shape of Y_Train', np.shape(data_price_train_n_l))\n",
    "print('Shape of X_Test', np.shape(data_eval_test))\n",
    "print('Shape of Y_Test', np.shape(data_price_test_n_l))"
   ]
  },
  {
   "cell_type": "code",
   "execution_count": 33,
   "id": "b4e4e047",
   "metadata": {},
   "outputs": [
    {
     "name": "stdout",
     "output_type": "stream",
     "text": [
      "weights [-2411.55640009  8929.72721905   575.61829967   -95.18820853\n",
      "   164.28182711   -57.85212848]\n"
     ]
    }
   ],
   "source": [
    "weights_inv = np.dot(data_eval_train_n_tra, data_eval_train_n)\n",
    "#print(weights_inv)\n",
    "weights_inv_t = np.linalg.pinv(weights_inv)\n",
    "#weights_inv_new = NMatix.new(weights_inv)\n",
    "#print(np.linalg.det(weights_inv))\n",
    "#print(np.shape(weights_inv))\n",
    "#print(np.shape(data_eval_train_n_tra))\n",
    "weights_r = np.dot(data_eval_train_n_tra, data_price_train_n_l)\n",
    "#print(np.shape(weights_r))\n",
    "weights = np.dot(weights_inv_t,weights_r)\n",
    "print(\"weights\",weights)\n",
    "\n"
   ]
  },
  {
   "cell_type": "code",
   "execution_count": 34,
   "id": "ce29b16b",
   "metadata": {},
   "outputs": [
    {
     "name": "stdout",
     "output_type": "stream",
     "text": [
      "[-2411.55640009  8929.72721905   575.61829967   -95.18820853\n",
      "   164.28182711   -57.85212848]\n"
     ]
    }
   ],
   "source": [
    "weights_tra = np.matrix.transpose(weights)\n",
    "print(weights_tra)"
   ]
  },
  {
   "cell_type": "code",
   "execution_count": 35,
   "id": "b6628a6d",
   "metadata": {},
   "outputs": [
    {
     "name": "stdout",
     "output_type": "stream",
     "text": [
      "[  341.39818918   301.12491135   341.39818918 ... 12738.83448913\n",
      " 13803.61184264 16908.58077572]\n",
      "RSME 1398.578356289378\n"
     ]
    },
    {
     "data": {
      "text/plain": [
       "<matplotlib.legend.Legend at 0x183d0644550>"
      ]
     },
     "execution_count": 35,
     "metadata": {},
     "output_type": "execute_result"
    },
    {
     "data": {
      "image/png": "[encoded data removed]",
      "text/plain": [
       "<Figure size 360x360 with 1 Axes>"
      ]
     },
     "metadata": {
      "needs_background": "light"
     },
     "output_type": "display_data"
    }
   ],
   "source": [
    "price_predict = np.dot(data_eval_train_n,weights_tra)\n",
    "price_predict_tra = np.matrix.transpose(price_predict)\n",
    "print(price_predict_tra)\n",
    "error = data_price_train_n_l - price_predict\n",
    "error_sqr_train = np.square(error)\n",
    "error_sqr_train_sum = np.sum(error_sqr_train)\n",
    "RSME = (error_sqr_train_sum/len(error_sqr_train))**0.5\n",
    "print('RSME',RSME)\n",
    "#print(data_price_train_n_l)\n",
    "plt.rcParams[\"figure.figsize\"] = (5,5)\n",
    "plt.grid()\n",
    "#plt.scatter(data_price_train_n_l, price_predict, color='g', label='expected')\n",
    "#plt.scatter(range(10788), data_price_train_n_l, color='r', label='actual price')\n",
    "plt.plot(range(43152), data_price_train_n_l, color='g', label='actual price')\n",
    "plt.scatter(range(43152), price_predict, color='r', label='actual price')\n",
    "plt.xlabel('actual value')\n",
    "plt.ylabel('predicted value')\n",
    "plt.legend()\n"
   ]
  },
  {
   "cell_type": "code",
   "execution_count": 36,
   "id": "d2bb15e7",
   "metadata": {},
   "outputs": [
    {
     "name": "stdout",
     "output_type": "stream",
     "text": [
      "RSME 1204.9024303693927\n"
     ]
    },
    {
     "data": {
      "image/png": "[encoded data removed]",
      "text/plain": [
       "<Figure size 360x360 with 1 Axes>"
      ]
     },
     "metadata": {
      "needs_background": "light"
     },
     "output_type": "display_data"
    }
   ],
   "source": [
    "price_predict_test = np.dot(data_eval_test_n_l,weights_tra)\n",
    "error = data_price_test_n_l - price_predict_test\n",
    "error_sqr_test = np.square(error)\n",
    "error_sqr_test_sum = np.sum(error_sqr_test)\n",
    "RSME = (error_sqr_test_sum/len(error_sqr_test))**0.5\n",
    "print('RSME',RSME)\n",
    "#plt.scatter(data_price_test_n_l,price_predict_test, color='g', label='expected')\n",
    "plt.plot(range(10788),data_price_test_n_l, color='r', label='actual')\n",
    "plt.scatter(range(10788),price_predict_test, color='b', label='actual')\n",
    "plt.xlabel('actual value')\n",
    "plt.ylabel('predicted value')\n",
    "plt.legend()\n",
    "plt.grid()\n"
   ]
  },
  {
   "cell_type": "markdown",
   "id": "a4c8dd14",
   "metadata": {},
   "source": [
    "## Part III - Ridge Regression"
   ]
  },
  {
   "cell_type": "code",
   "execution_count": 37,
   "id": "74144455",
   "metadata": {},
   "outputs": [
    {
     "name": "stdout",
     "output_type": "stream",
     "text": [
      "Ridge Regression RSME: 1398.5789028952088\n",
      "Ridge Regression Weights: [-2358.65439881  8928.93222186   575.49104487   -95.20808833\n",
      "   163.95081504   -58.66646723]\n"
     ]
    },
    {
     "data": {
      "text/plain": [
       "<matplotlib.legend.Legend at 0x183d1fa5c40>"
      ]
     },
     "execution_count": 37,
     "metadata": {},
     "output_type": "execute_result"
    },
    {
     "data": {
      "image/png": "[encoded data removed]",
      "text/plain": [
       "<Figure size 360x360 with 1 Axes>"
      ]
     },
     "metadata": {
      "needs_background": "light"
     },
     "output_type": "display_data"
    }
   ],
   "source": [
    "l = 0.5 #assuming value 0.5 for lambda\n",
    "weights_rid = np.dot(np.linalg.inv(weights_inv + l*np.eye(len(weights_inv))),weights_r)\n",
    "weights_rid_tra = np.matrix.transpose(weights_rid)\n",
    "predict_rid_train = np.dot(data_eval_train_n,weights_rid_tra)\n",
    "\n",
    "error_rid = data_price_train_n_l - predict_rid_train\n",
    "error_rid_tra = np.matrix.transpose(error_rid)\n",
    "error_rid_sqr_train = np.square(error_rid)\n",
    "error_rid_sqr_train_sum = np.sum(error_rid_sqr_train)\n",
    "RSME_rid = mt.sqrt(error_rid_sqr_train_sum/len(error_rid_sqr_train))\n",
    "print('Ridge Regression RSME:',RSME_rid)\n",
    "print('Ridge Regression Weights:', weights_rid)\n",
    "\n",
    "#plt.scatter(data_price_train_n_l,predict_rid_train, color = 'b', label = 'Predicted Value')\n",
    "plt.xlabel('actual value')\n",
    "plt.ylabel('predicted value')\n",
    "plt.plot(range(43152),data_price_train_n_l, color='r', label = 'Actual Value')\n",
    "plt.scatter(range(43152),predict_rid_train, color='b', label = 'Actual Value')\n",
    "plt.grid()\n",
    "plt.legend()\n"
   ]
  },
  {
   "cell_type": "code",
   "execution_count": 38,
   "id": "14da6130",
   "metadata": {},
   "outputs": [
    {
     "name": "stdout",
     "output_type": "stream",
     "text": [
      "Ridge Regression RSME: 1204.550017639401\n",
      "Ridge Regression Weights: [-2358.65439881  8928.93222186   575.49104487   -95.20808833\n",
      "   163.95081504   -58.66646723]\n"
     ]
    },
    {
     "data": {
      "text/plain": [
       "<matplotlib.legend.Legend at 0x183d20519a0>"
      ]
     },
     "execution_count": 38,
     "metadata": {},
     "output_type": "execute_result"
    },
    {
     "data": {
      "image/png": "[encoded data removed]",
      "text/plain": [
       "<Figure size 360x360 with 1 Axes>"
      ]
     },
     "metadata": {
      "needs_background": "light"
     },
     "output_type": "display_data"
    }
   ],
   "source": [
    "predict_rid_test = np.dot(data_eval_test_n,weights_rid_tra)\n",
    "#print(np.shape(predict_rid_test))\n",
    "error_rid = data_price_test_n_l - predict_rid_test\n",
    "error_rid_tra = np.matrix.transpose(error_rid)\n",
    "error_rid_sqr_test = np.square(error_rid)\n",
    "error_rid_sqr_test_sum = np.sum(error_rid_sqr_test)\n",
    "RSME_rid = mt.sqrt(error_rid_sqr_test_sum/len(error_rid_sqr_test))\n",
    "print('Ridge Regression RSME:',RSME_rid)\n",
    "print('Ridge Regression Weights:', weights_rid)\n",
    "#plt.scatter(data_price_test_n_l,predict_rid_test, color = 'b', label = 'Predicted Value')\n",
    "#plt.scatter(range(43152),data_price_test_n_l, label = 'Actual Value')\n",
    "plt.plot(range(10788),data_price_test_n_l,color='r', label = 'Actual Value')\n",
    "plt.scatter(range(10788),predict_rid_test,color='b', label = 'Actual Value')\n",
    "plt.xlabel('actual value')\n",
    "plt.ylabel('predicted value')\n",
    "plt.grid()\n",
    "plt.legend()"
   ]
  },
  {
   "cell_type": "markdown",
   "id": "39a623f8",
   "metadata": {},
   "source": [
    "## Part IV - Gradient Descent"
   ]
  },
  {
   "cell_type": "code",
   "execution_count": 39,
   "id": "27970ec2",
   "metadata": {},
   "outputs": [
    {
     "name": "stdout",
     "output_type": "stream",
     "text": [
      "[-2358.65439881  8928.93222186   575.49104487   -95.20808833\n",
      "   163.95081504   -58.66646723]\n",
      "[ 2358.65447253 -8928.93215406  -575.49075174    95.20837045\n",
      "  -163.95052814    58.67100906]\n",
      "[3.53704028e+50 3.24221035e+50 1.40279203e+51 1.35372051e+51\n",
      " 1.37154216e+51 2.18514475e+52]\n",
      "[1.36032492e+54 1.34584575e+54 1.36032492e+54 ... 1.36986508e+54\n",
      " 1.39959951e+54 1.34888384e+54]\n",
      "Gradient Descent RSME 1.3662895214324225e+54\n",
      "Gradient Descent Weights [3.53704028e+50 3.24221035e+50 1.40279203e+51 1.35372051e+51\n",
      " 1.37154216e+51 2.18514475e+52]\n"
     ]
    },
    {
     "data": {
      "text/plain": [
       "<matplotlib.legend.Legend at 0x183c43b9cd0>"
      ]
     },
     "execution_count": 39,
     "metadata": {},
     "output_type": "execute_result"
    },
    {
     "data": {
      "image/png": "[encoded data removed]",
      "text/plain": [
       "<Figure size 360x360 with 1 Axes>"
      ]
     },
     "metadata": {
      "needs_background": "light"
     },
     "output_type": "display_data"
    }
   ],
   "source": [
    "alpha = 0.8 #Assuming alpha as 0.2\n",
    "weights_grad = weights_rid\n",
    "print(weights_grad)\n",
    "del_j = -2*weights_r + 2*np.dot(weights_inv,weights_grad)\n",
    "print(del_j)\n",
    "for i in range(7):\n",
    "    del_j = -2*weights_r + 2*np.dot(weights_inv,weights_grad)\n",
    "    weights_grad = weights_grad - alpha*del_j\n",
    "    \n",
    "weights_grad_tra = np.matrix.transpose(weights_grad)\n",
    "print(weights_grad)\n",
    "predict_grad_train = np.dot(data_eval_train_n,weights_grad_tra)\n",
    "print(predict_grad_train)\n",
    "error_grad_train = data_price_train_n_l - predict_grad_train\n",
    "error_grad_train_sqr = np.square(error_grad_train)\n",
    "error_grad_train_sqr_sum = np.sum(error_grad_train_sqr)\n",
    "RSME_grad_train = mt.sqrt(error_grad_train_sqr_sum/len(error_grad_train_sqr))\n",
    "print('Gradient Descent RSME', RSME_grad_train)\n",
    "print('Gradient Descent Weights', weights_grad)\n",
    "plt.scatter(data_price_train_n_l,predict_grad_train, color = 'r', label = 'Predicted Value')\n",
    "#plt.scatter(range(10788),data_price_train_n_l, label = 'Actual Value')\n",
    "#plt.plot(range(43152),data_price_train_n_l, label = 'Actual Value')\n",
    "#plt.scatter(range(43152),predict_grad_train, label = 'Actual Value')\n",
    "\n",
    "plt.xlabel('actual value')\n",
    "plt.ylabel('predicted value')\n",
    "plt.legend()"
   ]
  },
  {
   "cell_type": "code",
   "execution_count": 40,
   "id": "d0704759",
   "metadata": {},
   "outputs": [
    {
     "name": "stdout",
     "output_type": "stream",
     "text": [
      "Gradient Descent RSME 1.3673206693659306e+54\n"
     ]
    },
    {
     "data": {
      "text/plain": [
       "<matplotlib.legend.Legend at 0x183d20512e0>"
      ]
     },
     "execution_count": 40,
     "metadata": {},
     "output_type": "execute_result"
    },
    {
     "data": {
      "image/png": "[encoded data removed]",
      "text/plain": [
       "<Figure size 360x360 with 1 Axes>"
      ]
     },
     "metadata": {
      "needs_background": "light"
     },
     "output_type": "display_data"
    }
   ],
   "source": [
    "predict_grad_test = np.dot(data_eval_test_n,weights_grad_tra)\n",
    "error_grad_test = data_price_test_n_l - predict_grad_test\n",
    "error_grad_test_sqr = np.square(error_grad_test)\n",
    "error_grad_test_sqr_sum = np.sum(error_grad_test_sqr)\n",
    "RSME_grad_test = (error_grad_test_sqr_sum/len(error_grad_test_sqr))**0.5\n",
    "print('Gradient Descent RSME', RSME_grad_test)\n",
    "plt.scatter(data_price_test_n_l,predict_grad_test, color = 'r', label = 'Predicted Value')\n",
    "#plt.scatter(range(43152),data_price_test_n_l, label = 'Actual Value')\n",
    "plt.xlabel('actual value')\n",
    "plt.ylabel('predicted value')\n",
    "plt.legend()"
   ]
  },
  {
   "cell_type": "code",
   "execution_count": 41,
   "id": "9a378b95",
   "metadata": {
    "scrolled": true
   },
   "outputs": [
    {
     "data": {
      "text/plain": [
       "<matplotlib.legend.Legend at 0x183d24aba30>"
      ]
     },
     "execution_count": 41,
     "metadata": {},
     "output_type": "execute_result"
    },
    {
     "data": {
      "image/png": "[encoded data removed]",
      "text/plain": [
       "<Figure size 360x360 with 1 Axes>"
      ]
     },
     "metadata": {
      "needs_background": "light"
     },
     "output_type": "display_data"
    }
   ],
   "source": [
    "plt.plot(range(43152), error_sqr_train, color = 'g', label = 'Linear Regression Squared Loss')\n",
    "plt.scatter(range(43152), error_rid_sqr_train, color = 'r', label = 'Ridge Regression Squared Loss')\n",
    "#plt.plot(range(43152), error_grad_train_sqr, color = 'b', label = 'Gradient Descent Squared Loss')\n",
    "plt.grid()\n",
    "plt.legend()"
   ]
  },
  {
   "cell_type": "markdown",
   "id": "ec5f57da",
   "metadata": {},
   "source": [
    "## References"
   ]
  },
  {
   "cell_type": "code",
   "execution_count": null,
   "id": "21fab6dc",
   "metadata": {},
   "outputs": [],
   "source": [
    "#https://numpy.org/doc/stable/index.html\n",
    "#https://pandas.pydata.org/\n",
    "#google searches on how to matrix multiplications, mattrix transpose, matrix reshapes\n",
    "#https://matplotlib.org/stable/api/_as_gen/matplotlib.pyplot.html"
   ]
  }
 ],
 "metadata": {
  "kernelspec": {
   "display_name": "Python 3 (ipykernel)",
   "language": "python",
   "name": "python3"
  },
  "language_info": {
   "codemirror_mode": {
    "name": "ipython",
    "version": 3
   },
   "file_extension": ".py",
   "mimetype": "text/x-python",
   "name": "python",
   "nbconvert_exporter": "python",
   "pygments_lexer": "ipython3",
   "version": "3.9.7"
  }
 },
 "nbformat": 4,
 "nbformat_minor": 5
}
